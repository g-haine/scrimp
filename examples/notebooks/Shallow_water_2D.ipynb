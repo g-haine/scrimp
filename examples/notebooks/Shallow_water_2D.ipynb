{
 "cells": [
  {
   "cell_type": "markdown",
   "id": "87d5c6cd-d181-44ef-9f29-ab2fafadb462",
   "metadata": {
    "tags": [],
    "user_expressions": []
   },
   "source": [
    "The 2-dimensional shallow water equations\n",
    "=========================================\n",
    "\n",
    "The objective of this example is to show how to deal with **non-linearity**.\n",
    "\n",
    "Let us consider a bounded domain $\\Omega \\subset \\mathbb{R}^2$. The shallow water equations are constituted of two conservation laws\n",
    "$$\n",
    "    \\begin{pmatrix}\n",
    "    \\partial_t h \\\\ \\partial_t p\n",
    "    \\end{pmatrix} \n",
    "    = \\begin{bmatrix}\n",
    "    0 & - {\\rm div} \\\\\n",
    "    -{\\rm grad} & \\frac{1}{h} G(\\omega) \n",
    "    \\end{bmatrix}\n",
    "    \\begin{pmatrix}\n",
    "    {e}_h \\\\ {e_p}\n",
    "    \\end{pmatrix} ,\n",
    "$$\n",
    "where $h$ is the height of the fluid, $v$ is the velocity, $\\rho$ is the fluid density (supposed constant), $p := \\rho v$ is the linear momentum, $\\omega := {\\rm curl}_{2D} \\left( v \\right) := \\partial_x v_y - \\partial_y v_x$ is the vorticity, $G(\\omega):=\\rho \\begin{bmatrix} 0 & 1 \\\\ -1 & 0 \\end{bmatrix}\\,{\\omega}$, $e_h = \\frac{1}{2} \\rho\\,\\|v\\|^2 + \\rho g h$ is the total pressure and $e_p = h v$ is the volumetric flow of the fluid. Thus, the first line of the matrix equation represents the conservation of the mass (or volume, since the fluid is assumed to be incompressible) and the second represents the conservation of linear momentum.\n",
    "\n",
    "Port-Hamiltonian framework\n",
    "--------------------------\n",
    "\n",
    "One can define the system Hamiltonian (or total energy) as a functional of $h$ and $p$, which are thus called energy variables\n",
    "$$\n",
    "    \\mathcal{H} (h,p) := \\frac{1}{2} \\int_\\Omega \\frac{h(t,x) \\| p(t,x) \\|^2}{\\rho} + \\rho g h^2(t,x) {\\rm d}x.\n",
    "$$\n",
    "The co-energy variables can be computed from the variational derivative of the Hamiltonian such that\n",
    "$$\n",
    "    \\begin{split}\n",
    "        e_h & = \\delta_h \\mathcal{H} = \\frac{1}{2} \\rho \\| v \\|^2 +  \\rho g h , \\\\\n",
    "        e_p & = \\delta_{p} \\mathcal{H} = h v .\n",
    "    \\end{split}\n",
    "$$\n",
    "The time-derivative of the Hamiltonian can then be obtained computed and depends only on the boundary variables\n",
    "$$\n",
    "     \\frac{\\rm d}{{\\rm d}t} \\mathcal{H} =  - \\int_{\\partial\\Omega} e_h(t,s) e_p(t,s) \\cdot n(s) {\\rm d}s ,\n",
    "$$\n",
    "which enables to define collocated control and observation distributed ports along the boundary $\\partial\\Omega$. For example, one may define\n",
    "$$\n",
    "   \\begin{split}\n",
    "        u_{\\partial} & = - e_p \\cdot n,\\\\\n",
    "        y_{\\partial} & = e_h,\n",
    "    \\end{split}\n",
    "$$\n",
    "and the power-balance is given by a product between input and output boundary ports. The system is lossless, and conservative in the absence of control.\n",
    "\n",
    "Structure-preserving discretization\n",
    "-----------------------------------\n",
    "\n",
    "First, let us multiply the linear momentum conservation equation by $h$.\n",
    "\n",
    "Let us consider sufficiently regular test functions $\\varphi$ and $\\Phi$ on $\\Omega$, and $\\psi$ test functions at the boundary $\\partial\\Omega$. The weak form of the previous equations reads\n",
    "$$\n",
    "    \\left\\lbrace\n",
    "    \\begin{array}{rcl}\n",
    "    \\left( \\partial_t h, \\varphi \\right)_{L^2} &=& - \\left( {\\rm div}\\left( h e_p \\right), \\varphi \\right)_{L^2}, \\\\\n",
    "    \\left( h \\partial_t p, \\Phi \\right)_{(L^2)^2} &=& - \\left( h {\\rm grad}\\left( e_h \\right), \\Phi \\right)_{(L^2)^2}\n",
    "                            + \\left( {\\rm curl}_{2D}\\left( p \\right) \\begin{bmatrix} 0 & 1 \\\\ -1 & 0 \\end{bmatrix} e_p, \\Phi \\right)_{(L^2)^2}, \\\\\n",
    "    \\left( y_\\partial, \\psi \\right)_{\\partial\\Omega} &=& \\left( e_h, \\psi \\right)_{\\partial\\Omega}.\n",
    "    \\end{array}\n",
    "    \\right.\n",
    "$$\n",
    "Applying integration by parts on the first line leads to\n",
    "$$\n",
    "    \\left\\lbrace\n",
    "    \\begin{array}{rcl}\n",
    "    \\left( \\partial_t h, \\varphi \\right)_{L^2} &=& \\left( h e_p, {\\rm grad} \\left( \\varphi \\right) \\right)_{L^2} + \\left( h u_\\partial, \\varphi \\right)_{\\partial\\Omega}, \\\\\n",
    "    \\left( h \\partial_t p, \\Phi \\right)_{(L^2)^2} &=& - \\left( h {\\rm grad} \\left( e_h \\right), \\Phi \\right)_{(L^2)^2}\n",
    "                            + \\left( {\\rm curl}_{2D}\\left( p \\right) \\begin{bmatrix} 0 & 1 \\\\ -1 & 0 \\end{bmatrix} e_p, \\Phi \\right)_{(L^2)^2}, \\\\\n",
    "    \\left( y_\\partial, \\psi \\right)_{\\partial\\Omega} &=& \\left( e_h, \\psi \\right)_{\\partial\\Omega}.\n",
    "    \\end{array}\n",
    "    \\right.\n",
    "$$\n",
    "Furthermore, the weak form of the constitutive relations write\n",
    "$$\n",
    "    \\left\\lbrace\n",
    "    \\begin{array}{rcl}\n",
    "    \\left( e_h, \\varphi \\right)_{L^2} &=& \\left( \\rho g h, \\varphi \\right)_{L^2} + \\left( \\frac{\\| p \\|^2}{2 \\rho}, \\varphi \\right)_{L^2}, \\\\\n",
    "    \\left( e_p, \\Phi \\right)_{(L^2)^2} &=& \\left( \\frac{p}{\\rho}, \\Phi \\right)_{(L^2)^2}.\n",
    "    \\end{array}\n",
    "    \\right.\n",
    "$$\n",
    "\n",
    "Now, let us choose three finite families $(\\varphi^i)_{1 \\le i \\le N_h} \\subset H^1(\\Omega)$, $(\\Phi^k)_{1 \\le k \\le N_p} \\subset (L^2(\\Omega))^2$ and $(\\psi^m)_{1 \\le m \\le N_\\partial}$ and project the weak formulations on them: for all $1 \\le i \\le N_h$, all $1 \\le k \\le N_p$ and all $1 \\le m \\le N_\\partial$\n",
    "$$\n",
    "    \\left\\lbrace\n",
    "    \\begin{array}{rcl}\n",
    "    \\sum_{j=1}^{N_h} \\frac{\\rm d}{{\\rm d}t} h^j \\left( \\varphi^j, \\varphi^i \\right)_{L^2} &=& \\sum_{\\ell=1}^{N_p} e_p^\\ell \\left( h^d \\Phi^\\ell, {\\rm grad} \\left( \\varphi^i \\right) \\right)_{L^2} + \\sum_{n=1}^{N_\\partial} u_\\partial^n \\left( h^d \\psi^n, \\varphi^i \\right)_{\\partial\\Omega}, \\\\\n",
    "    \\sum_{\\ell=1}^{N_p} \\frac{\\rm d}{{\\rm d}t} p^\\ell \\left( h^d \\Phi^\\ell, \\Phi^k \\right)_{(L^2)^2} &=& - \\sum_{j=1}^{N_h} e_h^j \\left( h^d {\\rm grad} \\left( \\varphi^j \\right), \\Phi^k \\right)_{(L^2)^2} \\\\\n",
    "                           && \\quad + \\sum_{\\ell=1}^{N_p} e_p^\\ell \\left( {\\rm curl}_{2D}\\left( p^d \\right) \\begin{bmatrix} 0 & 1 \\\\ -1 & 0 \\end{bmatrix} \\Phi^\\ell, \\Phi^k \\right)_{(L^2)^2}, \\\\\n",
    "    \\sum_{n=1}^{N_\\partial} y_\\partial^n \\left( \\psi^n, \\psi^m \\right)_{\\partial\\Omega} &=& \\sum_{j=1}^{N_h} e_h^j \\left( \\varphi^j, \\psi^m \\right)_{\\partial\\Omega},\n",
    "    \\end{array}\n",
    "    \\right.\n",
    "$$\n",
    "where $h^d := \\sum_{i=1}^{N_h} h^i \\varphi^i$ is the approximation of $h$ and $p^d := \\sum_{k=1}^{N_p} p^k \\Phi^k$ is the approximation of $p$. The constitutive relations read for all $1 \\le i \\le N_h$ and all $1 \\le k \\le N_p$\n",
    "$$\n",
    "    \\left\\lbrace\n",
    "    \\begin{array}{rcl}\n",
    "    \\sum_{j=1}^{N_h} e_h^j \\left( \\varphi^j, \\varphi^i \\right)_{L^2} &=& \\sum_{j=1}^{N_h} h^j \\left( \\rho g \\varphi^j, \\varphi^i \\right)_{L^2} + \\sum_{\\ell=1}^{N_p} p^\\ell \\left( \\frac{\\Phi^\\ell \\cdot p^d}{2 \\rho}, \\varphi^i \\right)_{L^2}, \\\\\n",
    "    \\sum_{\\ell=1}^{N_p} e_p^\\ell \\left( \\Phi^\\ell, \\Phi^k \\right)_{(L^2)^2} &=& \\sum_{\\ell=1}^{N_p} p^\\ell \\left( \\frac{\\Phi^\\ell}{\\rho}, \\Phi^k \\right)_{(L^2)^2}.\n",
    "    \\end{array}\n",
    "    \\right.\n",
    "$$\n",
    "\n",
    "Defining $\\underline{\\star}$ the vector gathering the coefficient of the approximation of the variable $\\star$ in its appropriate finite family, one may write the discrete weak formulations in matrix notation\n",
    "$$\n",
    "    \\begin{bmatrix} M_h & 0 & 0 \\\\ 0 & M_p[h^d] & 0 \\\\ 0 & 0 & M_\\partial \\end{bmatrix} \\begin{pmatrix} \\underline{h} \\\\ \\underline{p} \\\\ -\\underline{y_\\partial} \\end{pmatrix}\n",
    "    =\n",
    "    \\begin{bmatrix}\n",
    "    0 & D[h^d] & B[h^d] \\\\\n",
    "    -D[h^d]^\\top & G[p^d] & 0 \\\\\n",
    "    - B^\\top & 0 & 0\n",
    "    \\end{bmatrix}\n",
    "    \\begin{pmatrix} \\underline{e_h} \\\\ \\underline{e_p} \\\\ \\underline{u_\\partial} \\end{pmatrix}.\n",
    "$$\n",
    "where the matrices are given by\n",
    "$$\n",
    "    (M_h)_{ij} := \\left( \\varphi^j, \\varphi^i \\right)_{L^2} \\qquad (M_p[h^d])_{k\\ell} := \\left( h^d \\Phi^\\ell, \\Phi^k \\right)_{(L^2)^2} \\qquad (M_\\partial)_{mn} := \\left( \\psi^n, \\psi^m \\right)_{\\partial\\Omega},\n",
    "$$\n",
    "and\n",
    "$$\n",
    "    (D[h^d])_{i\\ell} := \\left( h^d \\Phi^\\ell, {\\rm grad} \\left( \\varphi^i \\right) \\right)_{L^2}, \\qquad (B[h^d])_{in} := \\left( h^d \\psi^n, \\varphi^i \\right)_{\\partial\\Omega}, \\qquad (B)_{in} := \\left( \\psi^n, \\varphi^i \\right)_{\\partial\\Omega}.\n",
    "$$\n",
    "The constitutive relations read\n",
    "$$\n",
    "    \\begin{bmatrix} M_h & 0 \\\\ 0 & M_p \\end{bmatrix} \\begin{pmatrix} \\underline{e_h} \\\\ \\underline{e_p} \\end{pmatrix}\n",
    "    =\n",
    "    \\begin{bmatrix}\n",
    "    Q_h & P_h[h^d] \\\\\n",
    "    0 & Q_p\n",
    "    \\end{bmatrix}\n",
    "    \\begin{pmatrix} \\underline{h} \\\\ \\underline{p} \\end{pmatrix},\n",
    "$$\n",
    "where the matrices are given by\n",
    "$$\n",
    "    (M_p)_{k\\ell} := \\left( \\Phi^\\ell, \\Phi^k \\right)_{(L^2)^2}, \\qquad (Q_h)_{ij} := \\left( \\rho g \\varphi^j, \\varphi^i \\right)_{L^2}, \\qquad (P_h[h^d])_{i\\ell} := \\left( \\frac{\\Phi^\\ell \\cdot p^d}{2 \\rho}, \\varphi^i \\right)_{L^2}, \\qquad (Q_d)_{k\\ell} := \\left( \\frac{\\Phi^\\ell}{\\rho}, \\Phi^k \\right)_{(L^2)^2}.\n",
    "$$\n",
    "\n",
    "With these definition, one may prove the **discrete power balance**\n",
    "$$\n",
    "    \\frac{\\rm d}{{\\rm d}t} \\mathcal{H}^d(t) = \\underline{u_\\partial}^\\top(t) M_\\partial \\underline{y_\\partial}(t).\n",
    "$$\n",
    "\n",
    "Simulation\n",
    "----------\n",
    "\n",
    "The beggining is classical: first import, then create the dphs and set the domain."
   ]
  },
  {
   "cell_type": "code",
   "execution_count": null,
   "id": "fb9804e1-7f2e-4d26-9115-d6b65dc4892d",
   "metadata": {
    "tags": []
   },
   "outputs": [],
   "source": [
    "# Import scrimp\n",
    "import scrimp as S\n",
    "\n",
    "# Init the distributed port-Hamiltonian system\n",
    "swe = S.DPHS(\"real\")\n",
    "\n",
    "# Set the domain (using the built-in geometry `Rectangle`)\n",
    "# Labels: Omega = 1, Gamma_Bottom = 10, Gamma_Right = 11, Gamma_Top = 12, Gamma_Left = 13\n",
    "swe.set_domain(S.Domain(\"Rectangle\", {\"L\": 2.0, \"l\": 0.5, \"h\": 0.1}))"
   ]
  },
  {
   "cell_type": "markdown",
   "id": "aaecc5b4-e11b-4c7f-a95a-3ee7d6c10cc1",
   "metadata": {
    "tags": [],
    "user_expressions": []
   },
   "source": [
    "Then the states and co-states."
   ]
  },
  {
   "cell_type": "code",
   "execution_count": null,
   "id": "a334637d-6009-4e34-b5b7-d2adcc9bbfc5",
   "metadata": {
    "tags": []
   },
   "outputs": [],
   "source": [
    "# Define the states and costates\n",
    "states = [\n",
    "    S.State(\"h\", \"Fluid height\", \"scalar-field\"),\n",
    "    S.State(\"p\", \"Linear momentum\", \"vector-field\"),\n",
    "]\n",
    "costates = [\n",
    "    S.CoState(\"e_h\", \"Pressure\", states[0]),\n",
    "    S.CoState(\"e_p\", \"Velocity\", states[1]),\n",
    "]\n",
    "\n",
    "# Add them to the dphs\n",
    "for state in states:\n",
    "    swe.add_state(state)\n",
    "for costate in costates:\n",
    "    swe.add_costate(costate)"
   ]
  },
  {
   "cell_type": "markdown",
   "id": "7113cf82-575b-4b00-8fc0-eec5cec222e4",
   "metadata": {
    "tags": [],
    "user_expressions": []
   },
   "source": [
    "And the control ports."
   ]
  },
  {
   "cell_type": "code",
   "execution_count": null,
   "id": "ad9d290b-b331-495f-8368-44a8bf9554a4",
   "metadata": {
    "tags": []
   },
   "outputs": [],
   "source": [
    "# Define the control ports\n",
    "control_ports = [\n",
    "    S.Control_Port(\n",
    "        \"Boundary control 0\",\n",
    "        \"U_0\",\n",
    "        \"Normal velocity\",\n",
    "        \"Y_0\",\n",
    "        \"Fluid height\",\n",
    "        \"scalar-field\",\n",
    "        region=10,\n",
    "        position=\"effort\",\n",
    "    ),\n",
    "    S.Control_Port(\n",
    "        \"Boundary control 1\",\n",
    "        \"U_1\",\n",
    "        \"Normal velocity\",\n",
    "        \"Y_1\",\n",
    "        \"Fluid height\",\n",
    "        \"scalar-field\",\n",
    "        region=11,\n",
    "        position=\"effort\",\n",
    "    ),\n",
    "    S.Control_Port(\n",
    "        \"Boundary control 2\",\n",
    "        \"U_2\",\n",
    "        \"Normal velocity\",\n",
    "        \"Y_2\",\n",
    "        \"Fluid height\",\n",
    "        \"scalar-field\",\n",
    "        region=12,\n",
    "        position=\"effort\",\n",
    "    ),\n",
    "    S.Control_Port(\n",
    "        \"Boundary control 3\",\n",
    "        \"U_3\",\n",
    "        \"Normal velocity\",\n",
    "        \"Y_3\",\n",
    "        \"Fluid height\",\n",
    "        \"scalar-field\",\n",
    "        region=13,\n",
    "        position=\"effort\",\n",
    "    ),\n",
    "]\n",
    "\n",
    "# Add them to the dphs\n",
    "for ctrl_port in control_ports:\n",
    "    swe.add_control_port(ctrl_port)"
   ]
  },
  {
   "cell_type": "markdown",
   "id": "1186314e-95bd-4acf-9f84-4419f2644a19",
   "metadata": {
    "tags": [],
    "user_expressions": []
   },
   "source": [
    "Regarding the FEM, this is more challenging, as non-linearity are present. Nevertheless, let us stick to the way we choose until now: since the $h$-type variables will be derivated, thus we choose continuous Galerkin approximations of order $k+1$. The other energy variable is taken as continuous Galerkin approximation of order $k$, while boundary terms are given by discontinuous Galerkin approximations of order $k$."
   ]
  },
  {
   "cell_type": "code",
   "execution_count": null,
   "id": "4470ac17-4c68-4e17-b1a0-c6d0dd17e129",
   "metadata": {
    "tags": []
   },
   "outputs": [],
   "source": [
    "# Define the Finite Elements Method of each port\n",
    "k = 1\n",
    "FEMs = [\n",
    "    S.FEM(states[0].get_name(), k+1, FEM=\"CG\"),\n",
    "    S.FEM(states[1].get_name(), k, FEM=\"CG\"),\n",
    "    S.FEM(control_ports[0].get_name(), k, \"DG\"),\n",
    "    S.FEM(control_ports[1].get_name(), k, \"DG\"),\n",
    "    S.FEM(control_ports[2].get_name(), k, \"DG\"),\n",
    "    S.FEM(control_ports[3].get_name(), k, \"DG\"),\n",
    "]\n",
    "\n",
    "# Add them to the dphs\n",
    "for FEM in FEMs:\n",
    "    swe.add_FEM(FEM)"
   ]
  },
  {
   "cell_type": "markdown",
   "id": "7b216604-926e-426e-809a-76c87d9501aa",
   "metadata": {
    "tags": [],
    "user_expressions": []
   },
   "source": [
    "The parameters are *physically meaningful*!"
   ]
  },
  {
   "cell_type": "code",
   "execution_count": null,
   "id": "381dc5ce-25af-48a6-8afe-bfb9a43acec6",
   "metadata": {
    "tags": []
   },
   "outputs": [],
   "source": [
    "# Define physical parameters\n",
    "rho = 1000.\n",
    "g = 10.\n",
    "parameters = [\n",
    "    S.Parameter(\"rho\", \"Mass density\", \"scalar-field\", f\"{rho}\", \"h\"),\n",
    "    S.Parameter(\"g\", \"Gravity\", \"scalar-field\", f\"{g}\", \"h\"),\n",
    "]\n",
    "\n",
    "# Add them to the dphs\n",
    "for parameter in parameters:\n",
    "    swe.add_parameter(parameter)"
   ]
  },
  {
   "cell_type": "markdown",
   "id": "ddbae4e6-680c-4bf7-9e62-ecd5cf655b95",
   "metadata": {
    "tags": [],
    "user_expressions": []
   },
   "source": [
    "Here are the difficult part. We need to define the weak form of each block matrices, and take non-linearities into account. To do so, the GFWL of GetFEM is transparent, but it is mandatory to say to **SCRIMP** that the `Brick` is non-linear, using the keyword `linear=False`. It is also possible to ask for this block to be considered *explicitly* in the time scheme (*i.e.* it will be computed with the previous time step values and be considered as a right-hand side), as done for the gyroscopic term below, using the keyword `explicit=True`."
   ]
  },
  {
   "cell_type": "code",
   "execution_count": null,
   "id": "2b4e0800-0cc7-4344-9367-a9a0925aae55",
   "metadata": {
    "tags": []
   },
   "outputs": [],
   "source": [
    "# Define the pHs via `Brick` == non-zero block matrices == variational terms\n",
    "# Some macros for the sake of readability\n",
    "swe.gf_model.add_macro('div(v)', 'Trace(Grad(v))')\n",
    "swe.gf_model.add_macro('Rot', '[[0,1],[-1,0]]')\n",
    "swe.gf_model.add_macro('Curl2D(v)', 'div(Rot*v)')\n",
    "swe.gf_model.add_macro('Gyro(v)', 'Curl2D(v)*Rot')\n",
    "bricks = [\n",
    "    # Define the mass matrices of the left-hand side of the \"Dirac structure\" (position=\"flow\")\n",
    "    S.Brick(\"M_h\", \"h * Test_h\", [1], dt=True, position=\"flow\"),\n",
    "    S.Brick(\"M_p\", \"h * p . Test_p\", [1], dt=True, linear=False, position=\"flow\"),\n",
    "    S.Brick(\"M_Y_0\", \"Y_0 * Test_Y_0\", [10], position=\"flow\"),\n",
    "    S.Brick(\"M_Y_1\", \"Y_1 * Test_Y_1\", [11], position=\"flow\"),\n",
    "    S.Brick(\"M_Y_2\", \"Y_2 * Test_Y_2\", [12], position=\"flow\"),\n",
    "    S.Brick(\"M_Y_3\", \"Y_3 * Test_Y_3\", [13], position=\"flow\"),\n",
    "\n",
    "    # Define the first line of the right-hand side of the \"Dirac structure\" (position=\"effort\")\n",
    "    S.Brick(\"-D^T\", \"h * e_p . Grad(Test_h)\", [1], linear=False, position=\"effort\"),\n",
    "    # with the boundary control\n",
    "    S.Brick(\"B_0\", \"- U_0 * Test_h\", [10], position=\"effort\"),\n",
    "    S.Brick(\"B_1\", \"- U_1 * Test_h\", [11], position=\"effort\"),\n",
    "    S.Brick(\"B_2\", \"- U_2 * Test_h\", [12], position=\"effort\"),\n",
    "    S.Brick(\"B_3\", \"- U_3 * Test_h\", [13], position=\"effort\"),\n",
    "    # Define the second line of the right-hand side of the \"Dirac structure\" (position=\"effort\")\n",
    "    S.Brick(\"D\", \"- Grad(e_h) . Test_p * h\", [1], linear=False, position=\"effort\"),\n",
    "    # with the gyroscopic term (beware that \"Curl\" is not available in the GWFL of getfem)\n",
    "    S.Brick(\"G\", \"(Gyro(p) * e_p) . Test_p\", [1], linear=False, explicit=True, position=\"effort\"),\n",
    "    # Define the third line of the right-hand side of the \"Dirac structure\" (position=\"effort\")\n",
    "    S.Brick(\"C_0\", \"- e_h * Test_Y_0\", [10], position=\"effort\"),\n",
    "    S.Brick(\"C_1\", \"- e_h * Test_Y_1\", [11], position=\"effort\"),\n",
    "    S.Brick(\"C_2\", \"- e_h * Test_Y_2\", [12], position=\"effort\"),\n",
    "    S.Brick(\"C_3\", \"- e_h * Test_Y_3\", [13], position=\"effort\"),\n",
    "\n",
    "    ## Define the constitutive relations (position=\"constitutive\", the default value)\n",
    "    # For e_h: first the mass matrix WITH A MINUS because we want an implicit formulation 0 = - M e_h + F(h)\n",
    "    S.Brick(\"-M_e_h\", \"- e_h * Test_e_h\", [1]),\n",
    "    # second the linear part as a linear brick\n",
    "    S.Brick(\"Q_h\", \"rho * g * h * Test_e_h\", [1]),\n",
    "    # third the non-linear part as a non-linear brick (linear=False)\n",
    "    S.Brick(\"P_h\", \"0.5 * (p . p) / rho * Test_e_h\", [1], linear=False),\n",
    "    # For e_p: first the mass matrix WITH A MINUS because we want an implicit formulation 0 = - M e_p + F(p)\n",
    "    S.Brick(\"-M_e_p\", \"- e_p . Test_e_p\", [1]),\n",
    "    # second the LINEAR brick\n",
    "    S.Brick(\"Q_p\", \"p / rho . Test_e_p\", [1]),\n",
    "]\n",
    "for brick in bricks:\n",
    "    swe.add_brick(brick)"
   ]
  },
  {
   "cell_type": "markdown",
   "id": "19ac8abd-1e34-4e61-97ec-41b6ef6e5578",
   "metadata": {
    "tags": [],
    "user_expressions": []
   },
   "source": [
    "As we just look at how it works, let us consider a step in the height, no initial velocity, and homogeneous Neumann boundary condition. This should look like a dam break experiment in a rectangular tank.\n",
    "\n",
    "**Remark:** note the use of `np`, *i.e.* numpy, in the definition of the initial height $h_0$."
   ]
  },
  {
   "cell_type": "code",
   "execution_count": null,
   "id": "9cf549e4-3b06-4301-a192-c1c85f67d945",
   "metadata": {
    "tags": []
   },
   "outputs": [],
   "source": [
    "## Initialize the problem\n",
    "swe.set_control(\"Boundary control 0\", \"0.\")\n",
    "swe.set_control(\"Boundary control 1\", \"0.\")\n",
    "swe.set_control(\"Boundary control 2\", \"0.\")\n",
    "swe.set_control(\"Boundary control 3\", \"0.\")\n",
    "\n",
    "# Set the initial data\n",
    "swe.set_initial_value(\"h\", \"3. - (np.sign(x-0.5)+1)/3.\")\n",
    "swe.set_initial_value(\"p\", f\"[ 0., 0.]\")\n",
    "\n",
    "## Solve in time\n",
    "# Define the time scheme\n",
    "swe.set_time_scheme(\n",
    "    ts_type=\"bdf\",\n",
    "    ts_bdf_order=4,\n",
    "    t_f=0.5,\n",
    "    dt=0.0001,\n",
    "    dt_save=0.01,\n",
    ")\n",
    "\n",
    "# Solve the system in time\n",
    "swe.solve()"
   ]
  },
  {
   "cell_type": "markdown",
   "id": "c37e83c7-8ac2-4966-8f50-a0349fa26d47",
   "metadata": {
    "tags": [],
    "user_expressions": []
   },
   "source": [
    "The Hamiltonian are then defined, computed, and shown."
   ]
  },
  {
   "cell_type": "code",
   "execution_count": null,
   "id": "2e805f19-58db-4867-ad24-b85de2d39fd1",
   "metadata": {
    "tags": []
   },
   "outputs": [],
   "source": [
    "## Post-processing\n",
    "# Set Hamiltonian's name\n",
    "swe.hamiltonian.set_name(\"Mechanical energy\")\n",
    "# Define Hamiltonian terms\n",
    "terms = [\n",
    "    S.Term(\"Kinetic energy\", \"0.5*h*p.p/rho\", [1]),\n",
    "    S.Term(\"Potential energy\", \"0.5*rho*g*h*h\", [1]),\n",
    "]\n",
    "# Add them to the Hamiltonian\n",
    "for term in terms:\n",
    "    swe.hamiltonian.add_term(term)\n",
    "# Plot the Hamiltonian\n",
    "swe.plot_Hamiltonian(save_figure=True, filename=\"Hamiltonian_Inviscid_Shallow_Water_2D.png\")"
   ]
  },
  {
   "cell_type": "markdown",
   "id": "3ed8dc71-ab3c-4073-a211-2fbd6c290b0d",
   "metadata": {
    "tags": [],
    "user_expressions": []
   },
   "source": [
    "Finally, we may export the height of the fluid, and make an animation with ParaView."
   ]
  },
  {
   "cell_type": "code",
   "execution_count": null,
   "id": "28ad89e5-cd83-47b3-a067-2bdd5710732f",
   "metadata": {
    "tags": []
   },
   "outputs": [],
   "source": [
    "## Going further in post-processing\n",
    "# Export the water height for ParaView post-processing\n",
    "swe.export_to_pv(\"h\")\n",
    "\n",
    "# Prepare outputs movie path\n",
    "import os\n",
    "path_movies = os.path.join(\"outputs\", \"movies\")\n",
    "movie = \"Shallow_Water_2D\"\n",
    "log = os.path.join(\"outputs\", \"log\", \"pv.txt\")\n",
    "\n",
    "# Load the ParaView script (it takes time!!!)\n",
    "os.system(f\"module load paraview/5.6.0-mesa; pvpython paraview_post_treatment.py {movie} h > {log}\")\n",
    "\n",
    "# Display the output\n",
    "from IPython.display import HTML\n",
    "path_movie = os.path.join(path_movies, f\"{movie}.ogv\")\n",
    "HTML(f\"\"\"\n",
    "    <video alt=\"test\" controls autoplay id=\"theVideo\">\n",
    "        <source src=\"{path_movie}\" type=\"video/ogg\">\n",
    "    </video>\n",
    "    \n",
    "    <script>\n",
    "    video = document.getElementById(\"theVideo\")\n",
    "    video.playbackRate = 10.0;\n",
    "    </script>\n",
    "    \"\"\")"
   ]
  }
 ],
 "metadata": {
  "kernelspec": {
   "display_name": "Python (scrimp)",
   "language": "python",
   "name": "scrimp"
  },
  "language_info": {
   "codemirror_mode": {
    "name": "ipython",
    "version": 3
   },
   "file_extension": ".py",
   "mimetype": "text/x-python",
   "name": "python",
   "nbconvert_exporter": "python",
   "pygments_lexer": "ipython3",
   "version": "3.12.2"
  }
 },
 "nbformat": 4,
 "nbformat_minor": 5
}

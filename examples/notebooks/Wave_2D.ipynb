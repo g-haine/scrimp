{
 "cells": [
  {
   "cell_type": "markdown",
   "id": "a76c6f00-60cf-43c5-8066-e04878d4a5bd",
   "metadata": {
    "tags": []
   },
   "source": [
    "The 2-dimensional linear wave equation\n",
    "======================================\n",
    "\n",
    "The objective of this second example is to let you test scrimp yourself.\n",
    "\n",
    "Let us consider the 2D wave equation with *mixed* boundary controls on a bounded rectangle $\\Omega := (0, L) \\times (0, \\ell)$. The deflection of the membrane from the equilibrium $w$ satisfies classicaly\n",
    "$$\n",
    "    \\left\\lbrace\n",
    "    \\begin{array}{rcl}\n",
    "    \\rho(x) \\partial_{tt}^2 w(t,x) - {\\rm div} \\left( T(x) \\cdot {\\rm grad} \\left( w(t,x) \\right) \\right) &=& 0, \\qquad t \\ge 0, x \\in \\Omega, \\\\\n",
    "    \\partial_t w(0,x) &=& v_0(x), \\qquad x \\in \\Omega, \\\\\n",
    "    \\partial_x w(0,x) &=& s_0(x), \\qquad x \\in \\Omega, \\\\\n",
    "    T(s) \\cdot {\\rm grad} \\left( w(t,s) \\right) &=& u_N(t,s), \\qquad t \\ge 0, s \\in \\Gamma_N := \\left( (0, L) \\times \\{ 0, \\ell \\} \\right) \\cup \\left( \\{ L \\} \\times (0, \\ell) \\right), \\\\\n",
    "    \\partial_t w(t,s) &=& u_D(t,s), \\qquad t \\ge 0, s \\in \\Gamma_D := \\{ 0 \\} \\times (0, \\ell),\n",
    "    \\end{array}\n",
    "    \\right.\n",
    "$$\n",
    "where $\\rho$ is the mass density and $T$ the Young's modulus. The subscript $N$ stands for **Neumann**, while the subscript $D$ stands for **Dirichlet** (to be fair, this is not really a Dirichlet boundary condition, as it imposes $\\partial_t w$ and not $w$ at the boundary $\\Gamma_D$).\n",
    "\n",
    "Let us state the physics in the port-Hamiltonian formalism.\n",
    "\n",
    "Port-Hamiltonian framework\n",
    "--------------------------\n",
    "\n",
    "Let $\\alpha_q := {\\rm grad} w$ denotes the *strain* and $\\alpha_p := \\rho \\partial_t w$ the *linear momentum*. One can express the total mechanical energy lying in the system $\\mathcal{H}$, the **Hamiltonian**, as\n",
    "$$\n",
    "    \\mathcal{H}(t) = \\mathcal{H}(\\alpha_q(t,x), \\alpha_p(t,x)) := \\underbrace{\\frac{1}{2} \\int_\\Omega \\alpha_q(t,x) \\cdot T(x) \\cdot \\alpha_q(t,x) {\\rm d}x}_{\\text{Potential energy}} + \\underbrace{\\frac{1}{2} \\int_\\Omega \\frac{\\alpha_p(t,x)^2}{\\rho(x)} {\\rm d}x}_{\\text{Kinetic energy}}.\n",
    "$$\n",
    "\n",
    "The **co-energy variables** are, as in the 1D case\n",
    "$$\n",
    "    e_q := \\delta_{\\alpha_q} \\mathcal{H} = T \\cdot \\alpha_q, \\qquad e_p := \\delta_{\\alpha_p} \\mathcal{H} = \\frac{\\alpha_p}{\\rho},\n",
    "$$\n",
    "that is the *stress* and the *velocity* respectively.\n",
    "\n",
    "Newton's second law and Schwarz's lemma give the following dynamics\n",
    "$$\n",
    "    \\begin{pmatrix} \\partial_t \\alpha_q \\\\ \\partial_t \\alpha_p \\end{pmatrix}\n",
    "    =\n",
    "    \\begin{bmatrix} 0 & {\\rm grad} \\\\ {\\rm div} & 0 \\end{bmatrix}\n",
    "    \\begin{pmatrix} e_q \\\\ e_p \\end{pmatrix}.\n",
    "$$\n",
    "\n",
    "Of course, this system allows to recover the initial wave equation in second-order form.\n",
    "\n",
    "The port-Hamiltonian system representing a (linear) vibrating membrane with mixed boundary controls then writes\n",
    "$$\n",
    "    \\begin{pmatrix} \\partial_t \\alpha_q \\\\ \\partial_t \\alpha_p \\end{pmatrix}\n",
    "    =\n",
    "    \\begin{bmatrix} 0 & {\\rm grad} \\\\ {\\rm div} & 0 \\end{bmatrix}\n",
    "    \\begin{pmatrix} e_q \\\\ e_p \\end{pmatrix},\n",
    "$$\n",
    "$$\n",
    "    \\left\\lbrace\n",
    "    \\begin{array}{rcl}\n",
    "    e_q(t,s) &=& u_N(t,s), \\qquad t \\ge 0, s \\in \\Gamma_N, \\\\\n",
    "    e_p(t,s) &=& u_D(t,s), \\qquad t \\ge 0, s \\in \\Gamma_D, \\\\\n",
    "    y_N(t,s) &=& e_p(t,s), \\qquad t \\ge 0, s \\in \\Gamma_N, \\\\\n",
    "    y_D(t,s) &=& e_q(t,s), \\qquad t \\ge 0, s \\in \\Gamma_D,\n",
    "    \\end{array}\n",
    "    \\right.\n",
    "$$\n",
    "$$\n",
    "    \\left\\lbrace\n",
    "    \\begin{array}{rcl}\n",
    "    e_q &=& T \\cdot \\alpha_q, \\\\\n",
    "    e_p &=& \\frac{\\alpha_p}{\\rho}.\n",
    "    \\end{array}\n",
    "    \\right.\n",
    "$$\n",
    "The **power balance** satisfied by the **Hamiltonian** is\n",
    "$$\n",
    "    \\frac{\\rm d}{{\\rm d}t} \\mathcal{H}(t) = \\frac{\\rm d}{{\\rm d}t} \\mathcal{H}(\\alpha_q(t), \\alpha_p(t)) = \\underbrace{\\left\\langle y_N(t,\\cdot), u_N(t,\\cdot)\\right\\rangle_{\\Gamma_N}}_{\\text{power flowing through the Neumann boundaries}} + \\underbrace{\\left\\langle u_D(t,\\cdot), y_D(t,\\cdot) \\right\\rangle_{\\Gamma_D}}_{\\text{power flowing through the Dirichlet boundary}},\n",
    "$$\n",
    "where $\\left\\langle \\cdot, \\cdot \\right\\rangle_{\\Gamma}$ is a boundary duality bracket $H^\\frac12, H^{-\\frac12}$ at the boundary $\\Gamma$.\n",
    "\n",
    "Structure-preserving discretization\n",
    "-----------------------------------\n",
    "\n",
    "Let $\\varphi_q$ and $\\varphi_p$ be smooth test functions on $\\Omega$, and $\\psi_N$ and $\\psi_D$ be smooth test functions on $\\Gamma_N$ and $\\Gamma_D$ respectively. One can write the weak formulation of the **Dirac Structure** as follows\n",
    "(weak-form)=\n",
    "$$\n",
    "    \\left\\lbrace\n",
    "    \\begin{array}{rcl}\n",
    "    \\int_\\Omega \\partial_t \\alpha_q(t,x) \\varphi_q(x) {\\rm d}x &=& \\int_\\Omega {\\rm grad} \\left( e_p(t,x) \\right) \\cdot \\varphi_q(x) {\\rm d}x, \\\\\n",
    "    \\int_\\Omega \\partial_t \\alpha_p(t,x) \\varphi_p(x) {\\rm d}x &=& \\int_\\Omega {\\rm div} e_q(t,x) \\varphi_p(x) {\\rm d}x, \\\\\n",
    "    \\left\\langle y_N, \\psi_N \\right\\rangle_{\\Gamma_N} &=& \\left\\langle e_p, \\psi_N \\right\\rangle_{\\Gamma_N}, \\\\\n",
    "    \\left\\langle u_D, \\psi_D \\right\\rangle_{\\Gamma_D} &=& \\left\\langle e_p, \\psi_D \\right\\rangle_{\\Gamma_D}.\n",
    "    \\end{array}\n",
    "    \\right.\n",
    "$$\n",
    "\n",
    "Integrating by parts the second line make the control $u_N$ and the observation $y_D$ appear\n",
    "$$\n",
    "    \\int_\\Omega \\partial_t \\alpha_p(t,x) \\varphi_p(x) {\\rm d}x = - \\int_\\Omega e_q(t,x) \\cdot {\\rm grad} \\left( \\varphi_p(x) \\right) {\\rm d}x + \\left\\langle \\varphi_p, u_N \\right\\rangle_{\\Gamma_N} + \\left\\langle \\varphi_p, y_D \\right\\rangle_{\\Gamma_D}.\n",
    "$$\n",
    "\n",
    "Now, let $(\\varphi_q^i)_{1 \\le i \\le N_q} \\subset L^2(\\Omega)$ and $(\\varphi_p^k)_{1 \\le k \\le N_p} \\subset H^1(\\Omega)$ be two finite families of approximations for the $q$-type port and the $p$-type port respectively, typically continuous and discontinuous Galerkin finite elements respectively. Denote also $(\\psi_N^m)_{1 \\le m \\le N_N} \\subset H^{\\frac12}(\\Gamma_N)$ and $(\\psi_D^m)_{1 \\le m \\le N_D} \\subset H^{\\frac12}(\\Gamma_D)$. In particular, the latter choices implies the duality brackets at the boundary reduce to simple $L^2$ scalar products.\n",
    "\n",
    "Writing the discrete weak formulation with those families, one has for all $1 \\le i \\le N_q$, all $1 \\le k \\le N_p$, all $1 \\le m_N \\le N_N$ and all $1 \\le m_D \\le N_D$\n",
    "(weak-form-IBP)=\n",
    "$$\n",
    "    \\left\\lbrace\n",
    "    \\begin{array}{rcl}\n",
    "    \\sum_{j=1}^{N_q} \\int_\\Omega \\varphi_q^j(x) \\varphi_q^i(x) {\\rm d}x \\, \\frac{\\rm d}{{\\rm d}t} \\alpha_q^j(t) &=& \\sum_{\\ell=1}^{N_p} \\int_\\Omega {\\rm grad} \\left( \\varphi_p^\\ell(x) \\right) \\cdot \\varphi_q^i(x) {\\rm d}x \\, e_p^\\ell(t), \\\\\n",
    "    \\sum_{\\ell=1}^{N_p} \\int_\\Omega \\varphi_p^\\ell(x) \\varphi_p^k(x) {\\rm d}x \\, \\frac{\\rm d}{{\\rm d}t} \\alpha_p^\\ell(t) &=& - \\sum_{j=1}^{N_q} \\int_\\Omega \\varphi_q^j(x) \\cdot {\\rm grad} \\left( \\varphi_p^k(x) \\right) {\\rm d}x \\, e_q^j(t) + \\sum_{n_N=1}^{N_N} \\int_{\\Gamma_N} \\varphi_p^k(s) \\psi_N^{n_N}(s) {\\rm d}s \\, u_N^{n_N}(t) + \\sum_{n_D=1}^{N_D} \\int_{\\Gamma_D} \\varphi_p^k(s) \\psi_D^{n_D}(s) {\\rm d}s \\, y_D^{n_D}(t), \\\\\n",
    "    \\sum_{n_N=1}^{N_N} \\left\\langle \\psi_N^{n_N}, \\psi_N^{m_N} \\right\\rangle_{\\Gamma_N} \\, y_N^{n_N}(t) &=& \\sum_{\\ell=1}^{N_p} \\int_{\\Gamma_N} \\varphi_p^\\ell(s) \\psi_N^{m_N}(s) {\\rm d}s \\, e_p^\\ell(t), \\\\\n",
    "    \\sum_{n_D=1}^{N_D} \\left\\langle \\psi_D^{n_D}, \\psi_D^{m_D} \\right\\rangle_{\\Gamma_D} \\, u_D^{n_D}(t) &=& \\sum_{\\ell=1}^{N_p} \\int_{\\Gamma_D} \\varphi_p^\\ell(s) \\psi_D^{m_D}(s) {\\rm d}s \\, e_p^\\ell(t),\n",
    "    \\end{array}\n",
    "    \\right.\n",
    "$$\n",
    "which rewrites in matrix form\n",
    "$$\n",
    "    \\underbrace{\\begin{bmatrix}\n",
    "    M_q & 0 & 0 & 0 \\\\\n",
    "    0 & M_p & 0 & 0 \\\\\n",
    "    0 & 0 & M_N & 0 \\\\\n",
    "    0 & 0 & 0 & M_D\n",
    "    \\end{bmatrix}}_{= M}\n",
    "    \\begin{pmatrix}\n",
    "    \\frac{\\rm d}{{\\rm d}t} \\underline{\\alpha_q}(t) \\\\\n",
    "    \\frac{\\rm d}{{\\rm d}t} \\underline{\\alpha_p}(t) \\\\\n",
    "    -\\underline{y_N}(t) \\\\\n",
    "    \\underline{u_D}(t)\n",
    "    \\end{pmatrix}\n",
    "    =\n",
    "    \\underbrace{\\begin{bmatrix}\n",
    "    0 & D & 0 & 0 \\\\\n",
    "    -D^\\top & 0 & B_N & -B_D^T \\\\\n",
    "    0 & -B_N^\\top & 0 & 0 \\\\\n",
    "    0 & B_D & 0 & 0\n",
    "    \\end{bmatrix}}_{= J}\n",
    "    \\begin{pmatrix}\n",
    "    \\underline{e_q}(t) \\\\\n",
    "    \\underline{e_p}(t) \\\\\n",
    "    \\underline{u_N}(t) \\\\\n",
    "    -\\underline{y_D}(t)\n",
    "    \\end{pmatrix},\n",
    "$$\n",
    "where $\\underline{\\star}(t) := \\begin{pmatrix} \\star^1(t) & \\cdots & \\star^{N_\\star} \\end{pmatrix}^\\top$ and\n",
    "(weak-form-matrices-1)=\n",
    "$$\n",
    "    (M_q)_{ij} := \\int_\\Omega \\varphi_q^j(x) \\varphi_q^i(x) {\\rm d}x,\n",
    "    \\qquad\n",
    "    (M_p)_{k\\ell} := \\int_\\Omega \\varphi_p^\\ell(x) \\varphi_p^k(x) {\\rm d}x,\n",
    "    \\qquad\n",
    "    (M_N)_{m_Nn_N} := \\int_{\\Gamma_N} \\psi_N^{n_N}(s) \\psi_N^{m_N}(s) {\\rm d}s,\n",
    "    \\qquad\n",
    "    (M_D)_{m_Dn_D} := \\int_{\\Gamma_D} \\psi_D^{n_D}(s) \\psi_D^{m_D}(s) {\\rm d}s,\n",
    "    \\qquad\n",
    "$$\n",
    "(weak-form-matrices-2)=\n",
    "$$\n",
    "    (D)_{i\\ell} := \\int_\\Omega {\\rm grad} \\left( \\varphi_p^\\ell(x) \\right) \\cdot \\varphi_q^i(x) {\\rm d}x,\n",
    "    \\qquad\n",
    "    (B_N)_{n_Nk} := \\int_{\\Gamma_N} \\varphi_p^k(s) \\psi_N^{n_N}(s) {\\rm d}s,\n",
    "    \\qquad\n",
    "    (B_D)_{m_D\\ell} := \\int_{\\Gamma_D} \\varphi_p^\\ell(s) \\psi_D^{m_D}(s) {\\rm d}s,\n",
    "$$\n",
    "\n",
    "Now one can approximate the **constitutive relations** in those families by projection of their weak formulations\n",
    "$$\n",
    "    \\left\\lbrace\n",
    "    \\begin{array}{rcl}\n",
    "    \\int_\\Omega e_q(t,x) \\cdot \\varphi_q(x) {\\rm d}x &=& \\int_\\Omega \\alpha_q(t,x) \\cdot T(x) \\cdot \\varphi_q(x) {\\rm d}x, \\\\\n",
    "    \\int_\\Omega e_p(t,x) \\varphi_p(x) {\\rm d}x &=&  \\int_\\Omega \\frac{\\alpha_p(t,x)}{\\rho(x)} \\varphi_p(x) {\\rm d}x,\n",
    "    \\end{array}\n",
    "    \\right.\n",
    "$$\n",
    "from which one can deduce the matrix form of the discrete weak formulation of the constitutive relation\n",
    "$$\n",
    "    \\left\\lbrace\n",
    "    \\begin{array}{rcl}\n",
    "    M_q \\underline{e_q}(t) &=& M_T \\underline{\\alpha_q}(t), \\\\\n",
    "    M_p \\underline{e_p}(t) &=& M_\\rho \\underline{\\alpha_p}(t),\n",
    "    \\end{array}\n",
    "    \\right.\n",
    "$$\n",
    "where\n",
    "(weak-form-matrices-3)=\n",
    "$$\n",
    "    (M_T)_{ij} := \\int_\\Omega \\varphi_q^j(x) \\cdot T(x) \\cdot \\varphi_q^i(x) {\\rm d}x,\n",
    "    \\qquad\n",
    "    (M_\\rho)_{k\\ell} := \\int_\\Omega \\frac{\\varphi_p^\\ell(x)}{\\rho(x)} \\varphi_p^k(x) {\\rm d}x.\n",
    "$$\n",
    "\n",
    "Finally, the **discrete Hamiltonian** $\\mathcal{H}^d$ is defined as the evaluation of $\\mathcal{H}$ on the approximation of the **state variables**\n",
    "$$\n",
    "    \\mathcal{H}^d(t) := \\mathcal{H}(\\alpha_q^d(t,x), \\alpha_p^d(t)) = \\frac{1}{2} \\underline{\\alpha_q}(t)^\\top M_T \\underline{\\alpha_q}(t) + \\frac{1}{2} \\underline{\\alpha_p}(t)^\\top M_\\rho \\underline{\\alpha_p}(t). \n",
    "$$\n",
    "\n",
    "The **discrete power balance** is then easily deduced from the above matrix formulations, thanks to the symmetry of $M$ and the skew-symmetry of $J$\n",
    "$$\n",
    "    \\frac{\\rm d}{{\\rm d}t} \\mathcal{H}^d(t) = \\underline{y_N}(t)^\\top M_N \\underline{u_N}(t) + \\underline{u_D}(t)^\\top M_D \\underline{y_D}(t).\n",
    "$$\n",
    "\n",
    "Simulations\n",
    "-----------\n",
    "\n",
    "Let us start by importing the scrimp package"
   ]
  },
  {
   "cell_type": "code",
   "execution_count": null,
   "id": "13d3b2b9-324d-487d-b3f7-f749c421302c",
   "metadata": {
    "tags": []
   },
   "outputs": [],
   "source": [
    "# Import scrimp\n",
    "import scrimp as S"
   ]
  },
  {
   "cell_type": "markdown",
   "id": "4fb71c6e-3e2b-4e68-9810-6b5354d92bc0",
   "metadata": {
    "tags": []
   },
   "source": [
    "Now define a real Distributed Port-Hamiltonian System"
   ]
  },
  {
   "cell_type": "code",
   "execution_count": null,
   "id": "1b9c7918-ad6b-4e79-899c-3c7668ceb6b1",
   "metadata": {
    "tags": []
   },
   "outputs": [],
   "source": [
    "# Init the distributed port-Hamiltonian system\n",
    "wave = S.DPHS(\"real\")"
   ]
  },
  {
   "cell_type": "markdown",
   "id": "a00d850a-5de2-441a-bf7a-a13b0489b26b",
   "metadata": {
    "tags": []
   },
   "source": [
    "The domain is 2-dimensional, and is a rectangle of length 2 and width 1. We use the built-in geometry `Rectangle` and choose a mesh size parameter of 0.1 with the following command."
   ]
  },
  {
   "cell_type": "code",
   "execution_count": null,
   "id": "6934aeab-fe57-429a-9ba6-6f5cfe3b1f32",
   "metadata": {
    "tags": []
   },
   "outputs": [],
   "source": [
    "# Set the domain (using the built-in geometry `Rectangle`)\n",
    "# Labels: Omega = 1, Gamma_Bottom = 10, Gamma_Right = 11, Gamma_Top = 12, Gamma_Left = 13\n",
    "rectangle = S.Domain(\"Rectangle\", {\"L\": 2.0, \"l\": 1.0, \"h\": 0.1})\n",
    "\n",
    "# And add it to the dphs\n",
    "wave.set_domain(rectangle)"
   ]
  },
  {
   "cell_type": "markdown",
   "id": "ed21c448-9832-4037-a380-f8e5e7d60d6c",
   "metadata": {
    "tags": []
   },
   "source": [
    "Defining the states and co-states, care must be taken: the Strain is a **vector-field**."
   ]
  },
  {
   "cell_type": "code",
   "execution_count": null,
   "id": "6f067748-2ecf-4c6a-948c-16cb14e34ca1",
   "metadata": {
    "tags": []
   },
   "outputs": [],
   "source": [
    "# Define the variables and their discretizations\n",
    "states = [\n",
    "    S.State(\"q\", \"Strain\", \"vector-field\"),\n",
    "    S.State(\"p\", \"Linear momentum\", \"scalar-field\"),\n",
    "]\n",
    "costates = [\n",
    "    S.CoState(\"e_q\", \"Stress\", states[0]),\n",
    "    S.CoState(\"e_p\", \"Velocity\", states[1]),\n",
    "]\n",
    "\n",
    "# Add them to the dphs\n",
    "for state in states:\n",
    "    wave.add_state(state)\n",
    "for costate in costates:\n",
    "    wave.add_costate(costate)"
   ]
  },
  {
   "cell_type": "markdown",
   "id": "c1ed8df3-19a7-46b8-9a73-eeca1fdaa572",
   "metadata": {
    "tags": []
   },
   "source": [
    "As the domain is the built-in geometry `Rectangle`, the boundary is composed of four parts, with indices 10, 11, 12 and 13, respectively for the lower, right, upper and left edge. Each of them will have its own control port, allowing *e.g.* **mixed** boundary conditions.\n",
    "\n",
    "Indeed in the above example, we choose Neumann boundary condition on $\\Gamma_N$, *i.e.* on 10, 11 and 12, while we choose Dirichlet boundary condition on $\\Gamma_D$, *i.e.* on 13.\n",
    "\n",
    "The choice to integrate by part the second line of [](weak-form) has a consequence for the port at boundary 13, as it is then in the *flow* part of the Dirac structure, as can be seen in [](weak-form-ibp). We indicate this using the keyword `position=\"flow\"`."
   ]
  },
  {
   "cell_type": "code",
   "execution_count": null,
   "id": "9de9e818-bc55-463d-9796-b8c0800457b1",
   "metadata": {
    "tags": []
   },
   "outputs": [],
   "source": [
    "# Define the control ports\n",
    "control_ports = [\n",
    "    S.Control_Port(\n",
    "        \"Boundary control (bottom)\",\n",
    "        \"U_B\",\n",
    "        \"Normal force\",\n",
    "        \"Y_B\",\n",
    "        \"Velocity trace\",\n",
    "        \"scalar-field\",\n",
    "        region=10,\n",
    "    ),\n",
    "    S.Control_Port(\n",
    "        \"Boundary control (right)\",\n",
    "        \"U_R\",\n",
    "        \"Normal force\",\n",
    "        \"Y_R\",\n",
    "        \"Velocity trace\",\n",
    "        \"scalar-field\",\n",
    "        region=11,\n",
    "    ),\n",
    "    S.Control_Port(\n",
    "        \"Boundary control (top)\",\n",
    "        \"U_T\",\n",
    "        \"Normal force\",\n",
    "        \"Y_T\",\n",
    "        \"Velocity trace\",\n",
    "        \"scalar-field\",\n",
    "        region=12,\n",
    "    ),\n",
    "    S.Control_Port(\n",
    "        \"Boundary control (left)\",\n",
    "        \"U_L\",\n",
    "        \"Velocity trace\",\n",
    "        \"Y_L\",\n",
    "        \"Normal force\",\n",
    "        \"scalar-field\",\n",
    "        region=13,\n",
    "        position=\"flow\",\n",
    "    ),\n",
    "]\n",
    "\n",
    "# Add them to the dphs\n",
    "for ctrl_port in control_ports:\n",
    "    wave.add_control_port(ctrl_port)"
   ]
  },
  {
   "cell_type": "markdown",
   "id": "05caae20-13d4-4bc2-a239-b3e882271139",
   "metadata": {
    "tags": []
   },
   "source": [
    "The choice for the finite element families is often the first difficulty of a simulation. Indeed, it can result in a failing time scheme, or a very instable solution. A key-point to take a first decision is to remember which field needs regularity (in the $L^2$-sense) in the Dirac structure. In our case, the $p$-type variables should be at least $H^1(\\Omega)$, as can be inferred from [](weak-form-IBP). Hence, a first choice for the $p$-type variables is to take continuous Galerkin finite elements of order $k$. Since the time derivative of $q$ will be, more or less, a gradient of a $p$-type variable, it will be a discontinuous Galerkin of order $k-1$ approximation. Finally, at least one trace of these variables, either the control, or the observation, is at most a discontinuous Galerkin of order $k-1$ approximation. Hence the following choices, with $k=2$."
   ]
  },
  {
   "cell_type": "code",
   "execution_count": null,
   "id": "d97987e3-0ffc-4c5a-9926-c2c3af0d14c4",
   "metadata": {
    "tags": []
   },
   "outputs": [],
   "source": [
    "# Define the Finite Elements Method of each port\n",
    "FEMs = [\n",
    "    S.FEM(states[0].get_name(), 1, \"DG\"),\n",
    "    S.FEM(states[1].get_name(), 2, \"CG\"),\n",
    "    S.FEM(control_ports[0].get_name(), 1, \"DG\"),\n",
    "    S.FEM(control_ports[1].get_name(), 1, \"DG\"),\n",
    "    S.FEM(control_ports[2].get_name(), 1, \"DG\"),\n",
    "    S.FEM(control_ports[3].get_name(), 1, \"DG\"),\n",
    "]\n",
    "\n",
    "# Add them to the dphs\n",
    "for FEM in FEMs:\n",
    "    wave.add_FEM(FEM)"
   ]
  },
  {
   "cell_type": "markdown",
   "id": "764e0b35-e538-44b3-99de-557743fc827f",
   "metadata": {
    "tags": []
   },
   "source": [
    "We can assume anisotropy and heterogeneity in our model by defining the parameters as follows. It has to be kept in mind that a parameter is always linked to a port (*i.e.*, to a pair *flow-effort*). In particular, a parameter linked to a port that is a vector-field, should be a **tensor-field**."
   ]
  },
  {
   "cell_type": "code",
   "execution_count": null,
   "id": "d8ee4874-65b2-4203-9c20-bbb858e01d21",
   "metadata": {
    "tags": []
   },
   "outputs": [],
   "source": [
    "# Define physical parameters\n",
    "parameters = [\n",
    "    S.Parameter(\"T\", \"Young's modulus\", \"tensor-field\", \"[[5+x,x*y],[x*y,2+y]]\", \"q\"),\n",
    "    S.Parameter(\"rho\", \"Mass density\", \"scalar-field\", \"3-x\", \"p\"),\n",
    "]\n",
    "\n",
    "# Add them to the dphs\n",
    "for parameter in parameters:\n",
    "    wave.add_parameter(parameter)"
   ]
  },
  {
   "cell_type": "markdown",
   "id": "48e7d53c-3375-4cf2-a549-8000e37d5923",
   "metadata": {
    "tags": []
   },
   "source": [
    "It is time to define the bricks of our model, *i.e.* the block matrices of our discretization, providing the weak forms given in [](weak-form-matrices-1), [](weak-form-matrices-2), and [](weak-form-matrices-3).\n",
    "\n",
    "This is probably the most difficult part of the process, and care must be taken. Remember that the syntax is the Generic Weak-Form Language (GWFL), for which an on-line documentation  exists on the [GetFEM site](https://getfem.org/userdoc/gasm_high.html?highlight=gwfl).\n",
    "\n",
    "For the block matrices appearing against time derivative of a variable, it is crucial not to forget the keyword `dt=True`."
   ]
  },
  {
   "cell_type": "code",
   "execution_count": null,
   "id": "2b09d711-cc25-4750-a459-6eb4e12c4b43",
   "metadata": {
    "tags": []
   },
   "outputs": [],
   "source": [
    "# Define the pHs via `Brick` == non-zero block matrices == variational terms\n",
    "bricks = [\n",
    "    ## Define the Dirac structure\n",
    "    # Define the mass matrices from the left-hand side: the `flow` part of the Dirac structure\n",
    "    S.Brick(\"M_q\", \"q.Test_q\", [1], dt=True, position=\"flow\"),\n",
    "    S.Brick(\"M_p\", \"p*Test_p\", [1], dt=True, position=\"flow\"),\n",
    "    S.Brick(\"M_Y_B\", \"Y_B*Test_Y_B\", [10], position=\"flow\"),\n",
    "    S.Brick(\"M_Y_R\", \"Y_R*Test_Y_R\", [11], position=\"flow\"),\n",
    "    S.Brick(\"M_Y_T\", \"Y_T*Test_Y_T\", [12], position=\"flow\"),\n",
    "    # The Dirichlet term is applied via Lagrange multiplier == the colocated output\n",
    "    S.Brick(\"M_Y_L\", \"U_L*Test_Y_L\", [13], position=\"flow\"),\n",
    "    # Define the matrices from the right-hand side: the `effort` part of the Dirac structure\n",
    "    S.Brick(\"D\", \"Grad(e_p).Test_q\", [1], position=\"effort\"),\n",
    "    S.Brick(\"-D^T\", \"-e_q.Grad(Test_p)\", [1], position=\"effort\"),\n",
    "    S.Brick(\"B_B\", \"U_B*Test_p\", [10], position=\"effort\"),\n",
    "    S.Brick(\"B_R\", \"U_R*Test_p\", [11], position=\"effort\"),\n",
    "    S.Brick(\"B_T\", \"U_T*Test_p\", [12], position=\"effort\"),\n",
    "    # The Dirichlet term is applied via Lagrange multiplier == the colocated output\n",
    "    S.Brick(\"B_L\", \"Y_L*Test_p\", [13], position=\"effort\"),\n",
    "    S.Brick(\"C_B\", \"-e_p*Test_Y_B\", [10], position=\"effort\"),\n",
    "    S.Brick(\"C_R\", \"-e_p*Test_Y_R\", [11], position=\"effort\"),\n",
    "    S.Brick(\"C_T\", \"-e_p*Test_Y_T\", [12], position=\"effort\"),\n",
    "    S.Brick(\"C_L\", \"-e_p*Test_Y_L\", [13], position=\"effort\"),\n",
    "    ## Define the constitutive relations\n",
    "    # Hooke's law under implicit form `- M_e_q e_q + CR_q q = 0`\n",
    "    S.Brick(\"-M_e_q\", \"-e_q.Test_e_q\", [1]),\n",
    "    S.Brick(\"CR_q\", \"q.T.Test_e_q\", [1]),\n",
    "    # Linear momentum definition under implicit form `- M_e_p e_p + CR_p p = 0`\n",
    "    S.Brick(\"-M_e_p\", \"-e_p*Test_e_p\", [1]),\n",
    "    S.Brick(\"CR_p\", \"p/rho*Test_e_p\", [1]),\n",
    "]\n",
    "\n",
    "# Add all these `Bricks` to the dphs\n",
    "for brick in bricks:\n",
    "    wave.add_brick(brick)"
   ]
  },
  {
   "cell_type": "markdown",
   "id": "37471b98-390f-4a90-a483-a240eb3cc188",
   "metadata": {
    "tags": []
   },
   "source": [
    "The last step is to initialize the dphs, by providing the control functions and the initial values for $q$ and $p$ (*i.e.*, the variables that are derivated in time in the model)."
   ]
  },
  {
   "cell_type": "code",
   "execution_count": null,
   "id": "63d8ce52-df87-411e-ad0c-4e9dae2ef985",
   "metadata": {
    "tags": []
   },
   "outputs": [],
   "source": [
    "## Initialize the problem\n",
    "# The controls expression, ordered as the control_ports\n",
    "t_f = 5.0\n",
    "expressions = [\"0.\", \"0.\", \"0.\", f\"0.1*sin(4.*t)*sin(4*pi*y)*exp(-10.*pow((0.5*{t_f}-t),2))\"]\n",
    "\n",
    "# Add each expression to its control_port\n",
    "for control_port, expression in zip(control_ports, expressions):\n",
    "    # Set the control functions: it automatically constructs the related `Brick`s such that `- M_u u + f(t) = 0`\n",
    "    wave.set_control(control_port.get_name(), expression)\n",
    "\n",
    "# Set the initial data\n",
    "q_0 = \"[0., 0.]\"\n",
    "wave.set_initial_value(\"q\", q_0)\n",
    "p_0 = \"3**(-20*((x-0.5)*(x-0.5)+(y-0.5)*(y-0.5)))\"\n",
    "wave.set_initial_value(\"p\", p_0)"
   ]
  },
  {
   "cell_type": "markdown",
   "id": "91255a54-9c6f-44dd-864e-288b8ab5dab6",
   "metadata": {
    "tags": []
   },
   "source": [
    "It remains to solve!"
   ]
  },
  {
   "cell_type": "code",
   "execution_count": null,
   "id": "03a498f1-0040-4a63-9b6c-ca1fa6d91b95",
   "metadata": {
    "tags": []
   },
   "outputs": [],
   "source": [
    "## Solve in time\n",
    "# Define the time scheme (\"cn\" is Crank-Nicolson)\n",
    "wave.set_time_scheme(ts_type=\"cn\",\n",
    "                     t_f=t_f, \n",
    "                     dt_save=0.01,\n",
    "                     )\n",
    "\n",
    "# Solve\n",
    "wave.solve()"
   ]
  },
  {
   "cell_type": "markdown",
   "id": "1b09a8fb-16ec-4c5b-8ac0-a0146e7359d4",
   "metadata": {
    "tags": []
   },
   "source": [
    "Now we can set the Hamiltonian and plot it."
   ]
  },
  {
   "cell_type": "code",
   "execution_count": null,
   "id": "dfcd854b-21b6-4477-8ae7-0b11f89d47c6",
   "metadata": {
    "tags": []
   },
   "outputs": [],
   "source": [
    "## Post-processing\n",
    "# Set Hamiltonian's name\n",
    "wave.hamiltonian.set_name(\"Mechanical energy\")\n",
    "# Define each Hamiltonian Term\n",
    "terms = [\n",
    "    S.Term(\"Potential energy\", \"0.5*q.T.q\", [1]),\n",
    "    S.Term(\"Kinetic energy\", \"0.5*p*p/rho\", [1]),\n",
    "]\n",
    "# Add them to the Hamiltonian\n",
    "for term in terms:\n",
    "    wave.hamiltonian.add_term(term)\n",
    "\n",
    "# Plot the Hamiltonian and save the output\n",
    "wave.plot_Hamiltonian(save_figure=True)"
   ]
  },
  {
   "cell_type": "markdown",
   "id": "4d2a5420-4480-4dbf-bb52-241855146375",
   "metadata": {
    "tags": []
   },
   "source": [
    "Adding Damping to the dphs\n",
    "==========================\n",
    "\n",
    "The remining part of the notebook is focused on the way to deal with *dissipativity*, hence using an **algebraic port**.\n",
    "\n",
    "Let us come back to the continuous system. Adding a (fluid) damping consists in an additive term in Newton second law, which is proportional to the velocity (in the linear case). More precisely, denoting $\\nu\\ge0$ the viscous parameter, one has:\n",
    "$$\n",
    "    \\rho(x) \\partial_{tt}^2 w(t,x) - {\\rm div} \\left( T(x) \\cdot {\\rm grad} \\left( w(t,x) \\right) \\right) + \\nu(x) \\partial_t w(t,x) = 0.\n",
    "$$\n",
    "\n",
    "Using the framework of port-Hamiltonian system, this rewrites:\n",
    "$$\n",
    "    \\begin{pmatrix} \\partial_t \\alpha_q \\\\ \\partial_t \\alpha_p \\end{pmatrix}\n",
    "    =\n",
    "    \\begin{bmatrix} 0 & {\\rm grad} \\\\ {\\rm div} & 0 \\end{bmatrix}\n",
    "    \\begin{pmatrix} e_q \\\\ e_p \\end{pmatrix}\n",
    "    +\n",
    "    \\begin{pmatrix} 0 \\\\ - \\nu e_p \\end{pmatrix}.\n",
    "$$\n",
    "One could include $-\\nu$ inside the matrix of operators, this is the so-called $J-R$ framework. However, it does not exhibit the underlying Dirac structure, as it hides the resistive port. Let us introduce this hidden port, by denoting $f_r$ the flow and $e_r$ the effort, as follows:\n",
    "$$\n",
    "    \\begin{pmatrix} \\partial_t \\alpha_q \\\\ \\partial_t \\alpha_p \\\\ f_r \\end{pmatrix}\n",
    "    =\n",
    "    \\begin{bmatrix} 0 & {\\rm grad} & 0 \\\\ {\\rm div} & 0 & -I \\\\ 0 & I^\\top & 0 \\end{bmatrix}\n",
    "    \\begin{pmatrix} e_q \\\\ e_p \\\\ e_r \\end{pmatrix},\n",
    "$$\n",
    "and supplemented by the resistive constitutive relation $e_r = \\nu f_r$.\n",
    "\n",
    "Of course, at the discrete level, this will increase the number of degrees of freedom, as two extra variables have to be discretized. Nevertheless, in more complicated situations (*e.g.* dealing with non-linearities), this is the price to pay to recover a correct discrete power balance.\n",
    "\n",
    "Another simulation\n",
    "------------------\n",
    "\n",
    "Let us start a new simulation with damping."
   ]
  },
  {
   "cell_type": "code",
   "execution_count": null,
   "id": "3f981576-5c3a-45f0-82b7-511d262a4b03",
   "metadata": {},
   "outputs": [],
   "source": [
    "# Clear GetFEM of the previous problem\n",
    "wave.gf_model.clear()\n",
    "\n",
    "# Define a new dphs\n",
    "wave_diss = S.DPHS(\"real\")\n",
    "\n",
    "# On the same domain\n",
    "wave_diss.set_domain(rectangle)\n",
    "\n",
    "# With the same states and costates\n",
    "for (state,costate) in zip(states,costates):\n",
    "    wave_diss.add_state(state)\n",
    "    wave_diss.add_costate(costate)\n",
    "\n",
    "# With the smae control ports\n",
    "for ctrl_port in control_ports:\n",
    "    wave_diss.add_control_port(ctrl_port)"
   ]
  },
  {
   "cell_type": "markdown",
   "id": "1887e217-e028-48b5-a7cd-a4089a364bd7",
   "metadata": {
    "tags": []
   },
   "source": [
    "The additional port is defined, added to the system `wave_diss` and a `FEM` is attached to it. Remark that we use the previously defined objects, *i.e.* we only append the `FEM` of the resistive port to the list of previously defined `FEM` objects. We choose continuous Galerkin of order 2, as the resistive effort is of $p$-type."
   ]
  },
  {
   "cell_type": "code",
   "execution_count": null,
   "id": "c2728fb0-251e-4c96-9fbe-c3f4b2d487cb",
   "metadata": {},
   "outputs": [],
   "source": [
    "# Define a dissipative port\n",
    "port_diss = S.Port(\"Damping\", \"f_r\", \"e_r\", \"scalar-field\")\n",
    "\n",
    "# Add it to the new dphs\n",
    "wave_diss.add_port(port_diss)\n",
    "\n",
    "# Add a FEM for it\n",
    "FEMs.append(S.FEM(\"Damping\", 2, \"CG\"))\n",
    "\n",
    "# Add all of them to the new dphs\n",
    "for FEM in FEMs:\n",
    "    wave_diss.add_FEM(FEM)"
   ]
  },
  {
   "cell_type": "markdown",
   "id": "e42092fe-c64a-4193-b803-e7fb86f6869c",
   "metadata": {
    "tags": []
   },
   "source": [
    "The parameter $\\nu$ is obviously linked to the `Damping` port. It can be heterogeneous, as for the other parameters."
   ]
  },
  {
   "cell_type": "code",
   "execution_count": null,
   "id": "c8c439bd-0ee5-487a-8684-648a9a5ce79f",
   "metadata": {},
   "outputs": [],
   "source": [
    "# Define a Parameter on the dissipative port\n",
    "parameters.append(S.Parameter(\"nu\", \"viscosity\", \"scalar-field\", \"0.5*(2.0-x)\", \"Damping\"))\n",
    "\n",
    "# Add all of them to the new dphs\n",
    "for parameter in parameters:\n",
    "    wave_diss.add_parameter(parameter)"
   ]
  },
  {
   "cell_type": "markdown",
   "id": "c19ef5ea-9d00-43eb-b517-c918589b5e83",
   "metadata": {
    "tags": []
   },
   "source": [
    "Looking at [](with-diss), only 3 non-zero block matrices have to be added to the list of the laready constructed bricks, for the Dirac structure part."
   ]
  },
  {
   "cell_type": "code",
   "execution_count": null,
   "id": "8cb87f5f-ff7c-40bf-bfa1-75efe4e48e66",
   "metadata": {},
   "outputs": [],
   "source": [
    "# Mass matrix\n",
    "bricks.append(S.Brick(\"M_r\", \"f_r*Test_f_r\", [1], position=\"flow\"))\n",
    "# The \"Identity\" operator\n",
    "bricks.append(S.Brick(\"I_r\", \"e_r*Test_p\", [1], position=\"effort\"))\n",
    "# Minus its transpose\n",
    "bricks.append(S.Brick(\"-I_r^T\", \"-e_p*Test_f_r\", [1], position=\"effort\"))"
   ]
  },
  {
   "cell_type": "markdown",
   "id": "62be9641-02e0-420f-ab22-41d5f6f03079",
   "metadata": {
    "tags": []
   },
   "source": [
    "Finally, 2 bricks are needed to discretize the resistive constitutive relation."
   ]
  },
  {
   "cell_type": "code",
   "execution_count": null,
   "id": "3a953720-adbe-4457-8f2c-d7d610beaddb",
   "metadata": {},
   "outputs": [],
   "source": [
    "# Constitutive relation: linear viscous fluid damping `- M_e_r e_r + CR_r f_r = 0`\n",
    "bricks.append(S.Brick(\"-M_e_r\", \"-e_r*Test_e_r\", [1]))\n",
    "bricks.append(S.Brick(\"CR_r\", \"nu*f_r*Test_e_r\", [1]))"
   ]
  },
  {
   "cell_type": "markdown",
   "id": "e6aa1bb8-7656-438e-bcd1-521cc600de79",
   "metadata": {
    "tags": []
   },
   "source": [
    "Again, we use the previsouly defined `Brick` objects, thus, the whole system is constructed by adding all the bricks. "
   ]
  },
  {
   "cell_type": "code",
   "execution_count": null,
   "id": "506d5322-3867-4e26-afab-7d7ca008fc82",
   "metadata": {},
   "outputs": [],
   "source": [
    "# Then add all bricks into the new dphs\n",
    "for brick in bricks:\n",
    "    wave_diss.add_brick(brick)"
   ]
  },
  {
   "cell_type": "markdown",
   "id": "f1323d75-84f2-42ee-84bb-b67afe6e6905",
   "metadata": {
    "tags": []
   },
   "source": [
    "The initialization and solve steps are identical to the previous conservative case."
   ]
  },
  {
   "cell_type": "code",
   "execution_count": null,
   "id": "52a6e20f-7c94-48c7-941c-7690cf261b37",
   "metadata": {},
   "outputs": [],
   "source": [
    "## Initialize the `new` problem\n",
    "# Add each expression to its control_port\n",
    "for control_port, expression in zip(control_ports, expressions):\n",
    "    # Set the control functions: it automatically constructs the related `Brick`s such that `- M_u u + f(t) = 0`\n",
    "    wave_diss.set_control(control_port.get_name(), expression)\n",
    "\n",
    "# Set the initial data\n",
    "wave_diss.set_initial_value(\"q\", q_0)\n",
    "wave_diss.set_initial_value(\"p\", p_0)\n",
    "\n",
    "## Solve in time\n",
    "# Define the time scheme\n",
    "wave_diss.set_time_scheme(ts_type=\"cn\",\n",
    "                          t_f=t_f, \n",
    "                          dt_save=0.01,\n",
    "                          )\n",
    "\n",
    "# Solve\n",
    "wave_diss.solve()"
   ]
  },
  {
   "cell_type": "markdown",
   "id": "d614e4be-d33e-4a3a-a15e-038c80b89b98",
   "metadata": {
    "tags": []
   },
   "source": [
    "Now one can define and plot the Hamiltonian."
   ]
  },
  {
   "cell_type": "code",
   "execution_count": null,
   "id": "f8f278d6-a568-45a2-b153-1e58e374f322",
   "metadata": {
    "tags": []
   },
   "outputs": [],
   "source": [
    "## Post-processing\n",
    "# Set Hamiltonian's name\n",
    "wave_diss.hamiltonian.set_name(\"Mechanical energy\")\n",
    "\n",
    "# Define each Hamiltonian Term (needed to overwrite the previously computed solution)\n",
    "terms = [\n",
    "    S.Term(\"Potential energy\", \"0.5*q.T.q\", [1]),\n",
    "    S.Term(\"Kinetic energy\", \"0.5*p*p/rho\", [1]),\n",
    "]\n",
    "\n",
    "# Add them to the Hamiltonian\n",
    "for term in terms:\n",
    "    wave_diss.hamiltonian.add_term(term)\n",
    "\n",
    "# Plot the Hamiltonian and save the output\n",
    "wave_diss.plot_Hamiltonian(save_figure=True)"
   ]
  }
 ],
 "metadata": {
  "kernelspec": {
   "display_name": "Python (scrimp)",
   "language": "python",
   "name": "scrimp"
  },
  "language_info": {
   "codemirror_mode": {
    "name": "ipython",
    "version": 3
   },
   "file_extension": ".py",
   "mimetype": "text/x-python",
   "name": "python",
   "nbconvert_exporter": "python",
   "pygments_lexer": "ipython3",
   "version": "3.12.2"
  }
 },
 "nbformat": 4,
 "nbformat_minor": 5
}

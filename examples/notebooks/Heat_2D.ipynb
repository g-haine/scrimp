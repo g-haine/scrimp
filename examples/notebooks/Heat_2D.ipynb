{
 "cells": [
  {
   "cell_type": "markdown",
   "id": "8398b48f-d485-434c-91f6-c2fc88548ad1",
   "metadata": {
    "tags": [],
    "user_expressions": []
   },
   "source": [
    "The 2-dimensional heat equation\n",
    "===============================\n",
    "\n",
    "This example is the first simple case of intrinsically port-Hamiltonian Differential Algebraic Equation (known as pH-DAE).\n",
    "\n",
    "The so-called *heat equation* is driven by the first law of thermodynamics.\n",
    "\n",
    "Let $\\Omega = (0,2) \\times (0,1)$ be a bounded open connected set, with mass density $\\rho(x)$, for all $x \\in \\Omega$, and $n$ be the outward unit normal at the boundary $\\partial\\Omega$. We assume that:\n",
    "\n",
    "- The domain $\\Omega$ does not change over time: *i.e.* we work at constant volume in a solid\n",
    "- No chemical reaction is to be found in the domain\n",
    "- Dulong-Petit's model: internal energy is proportional to temperature\n",
    "\n",
    "Let us denotes:\n",
    "\n",
    "- $u$ the internal energy density\n",
    "- $\\mathbf{J}_Q$ the heat flux\n",
    "- $T$ the local temperature\n",
    "- $C_V := \\left( \\frac{d u}{d T} \\right)_V$ the isochoric heat capacity\n",
    "\n",
    "The first law of thermodynamics, stating that in an isolated system, the energy is preserved, reads:\n",
    "$$\n",
    "    \\rho(x) \\partial_t u(t, x) = - {\\rm div} \\left( J_Q(t, x) \\right), \\qquad \\forall t \\ge 0, x \\in \\Omega.\n",
    "$$\n",
    "\n",
    "Under Dulong-Petit's model, one has $u = C_V T$, which leads to\n",
    "$$\n",
    "    \\rho(x) C_V(x) \\partial_t T(t, x) = - {\\rm div} \\left( J_Q(t, x) \\right), \\qquad \\forall t \\ge 0, x \\in \\Omega.\n",
    "$$\n",
    "\n",
    "As constitutive relation, the classical Fourier's law is considered:\n",
    "$$\n",
    "    J_Q(t, x) = - \\lambda(x) \\cdot {\\rm grad} \\left( T(t, x) \\right), \\qquad \\forall t \\ge 0, x \\in \\Omega,\n",
    "$$\n",
    "where $\\lambda$ is the **tensor-valued** heat conductivity of the medium.\n",
    "\n",
    "We assume furthermore that one wants to control the temperature $T = u_D$ at the lower, right and upper part of the boundary, denoted $\\Gamma_D$ (a **D**irichlet boundary condition), while the inward heat flux $-J_Q \\cdot n = u_N$ will be prescribed at the left edge, denoted $\\Gamma_N$ (a **N**eumann boundary condition). Thus, the observations are $y_D = - J_Q \\cdot n$ and $y_N = T$ respectively.\n",
    "\n",
    "Port-Hamiltonian framework\n",
    "--------------------------\n",
    "\n",
    "Let us choose as Hamiltonian the usual quadratic form for parabolic equation\n",
    "$$\n",
    "    \\mathcal{H}(T(t,x)) := \\frac{1}{2} \\int_\\Omega \\rho(x) Cv(x) T^2(t,x) {\\rm d}x.\n",
    "$$\n",
    "Computing the variational derivative with respect to the weigthed $L^2$-inner product $\\left( \\phi, \\psi \\right)_\\Omega := \\int_\\Omega \\rho(x) C_V(x) \\phi(x) \\psi(x) {\\rm d} x$ leads to a co-state variable $e_T = T$. Hence, the first law of thermodynamics may be written as\n",
    "$$\n",
    "    \\begin{pmatrix} \\rho C_V T \\\\ \\star \\end{pmatrix} = \\begin{bmatrix} 0 & -{\\rm div} \\\\ \\star & 0 \\end{bmatrix} \\begin{pmatrix} T \\\\ J_Q \\end{pmatrix}.\n",
    "$$\n",
    "As we want a *formally* skew-symmetric $J$ operator, it has to be completed with $-{\\rm grad}$, then\n",
    "$$\n",
    "    \\begin{pmatrix} \\rho C_V T \\\\ f_Q \\end{pmatrix} = \\begin{bmatrix} 0 & -{\\rm div} \\\\ -{\\rm grad} & 0 \\end{bmatrix} \\begin{pmatrix} T \\\\ J_Q \\end{pmatrix},\n",
    "$$\n",
    "and Fourier's law provides the constitutive relation $J_Q = \\lambda f_Q$ to close the system.\n",
    "\n",
    "**Remark:** $\\rho C_V$ appears against the state variable as the weight of the $L^2$-inner product, it should not be ommited in the mass matrix at the discrete level.\n",
    "\n",
    "The **power balance** satisfied by the **Hamiltonian** is\n",
    "\n",
    "$$\n",
    "    \\frac{\\rm d}{{\\rm d}t} \\mathcal{H}(t) = \\underbrace{- \\int_\\Omega \\lambda \\| f_Q(t,x) \\|^2 {\\rm d} x}_{\\text{dissipated power}} \\underbrace{+ \\left\\langle u_D(t,\\cdot), y_D(t,\\cdot) \\right\\rangle_{\\Gamma_D}}_{\\text{power flowing through }\\Gamma_D} \\underbrace{+ \\left\\langle y_N(t,\\cdot), u_N(t,\\cdot)\\right\\rangle_{\\Gamma_N}}_{\\text{power flowing through }\\Gamma_N},\n",
    "$$\n",
    "where $\\left\\langle \\cdot, \\cdot \\right\\rangle_{\\Gamma}$ is a boundary duality bracket $H^\\frac12, H^{-\\frac12}$ at the boundary $\\Gamma$.\n",
    "\n",
    "Structure-preserving discretization\n",
    "-----------------------------------\n",
    "\n",
    "Let $\\varphi_T$ and $\\varphi_Q$ be smooth test functions on $\\Omega$, and $\\psi_N$ and $\\psi_D$ be smooth test functions on $\\Gamma_N$ and $\\Gamma_D$ respectively. One can write the weak formulation of the **Dirac Structure** as follows\n",
    "(weak-form)=\n",
    "$$\n",
    "    \\left\\lbrace\n",
    "    \\begin{array}{rcl}\n",
    "    \\int_\\Omega \\rho(x) C_V(x) \\partial_t T(t,x) \\varphi_T(x) {\\rm d}x &=& - \\int_\\Omega {\\rm div} \\left( J_Q(t,x) \\right) \\varphi_T(x) {\\rm d}x, \\\\\n",
    "    \\int_\\Omega f_Q(t,x) \\cdot \\varphi_Q(x) {\\rm d}x &=& - \\int_\\Omega {\\rm grad} \\left( T(t,x) \\right) \\cdot \\varphi_Q(x) {\\rm d}x, \\\\\n",
    "    \\left\\langle y_D, \\psi_D \\right\\rangle_{\\Gamma_D} &=& \\left\\langle -J_Q \\cdot n, \\psi_D \\right\\rangle_{\\Gamma_D}, \\\\\n",
    "    \\left\\langle u_N, \\psi_N \\right\\rangle_{\\Gamma_N} &=& \\left\\langle -J_Q \\cdot n, \\psi_N \\right\\rangle_{\\Gamma_N}.\n",
    "    \\end{array}\n",
    "    \\right.\n",
    "$$\n",
    "\n",
    "Integrating by parts the second line make the control $u_N$ and the observation $y_D$ appear\n",
    "$$\n",
    "    \\int_\\Omega f_Q(t,x) \\cdot \\varphi_Q(x) {\\rm d}x = \\int_\\Omega T(t,x) {\\rm div} \\left( \\varphi_Q(x) \\right) {\\rm d}x - \\left\\langle u_D, \\varphi_Q \\cdot n \\right\\rangle_{\\Gamma_D} - \\left\\langle y_N, \\varphi_Q \\cdot n \\right\\rangle_{\\Gamma_N}.\n",
    "$$\n",
    "\n",
    "Now, let $(\\varphi_T^i)_{1 \\le i \\le N_T} \\subset L^2(\\Omega)$ and $(\\varphi_Q^k)_{1 \\le k \\le N_Q} \\subset H_{\\rm div}(\\Omega)$ be two finite families of approximations for the $T$-type port and the $Q$-type port respectively, typically discontinuous and continuous Galerkin finite elements respectively. Denote also $(\\psi_N^m)_{1 \\le m_N \\le N_N} \\subset H^{\\frac12}(\\Gamma_N)$ and $(\\psi_D^m)_{1 \\le m_N \\le N_D} \\subset H^{\\frac12}(\\Gamma_D)$. In particular, the latter choices imply that the duality brackets at the boundary reduce to simple $L^2$ scalar products.\n",
    "\n",
    "Writing the discrete weak formulation with those families, one has for all $1 \\le i \\le N_T$, all $1 \\le k \\le N_Q$, all $1 \\le m_N \\le N_N$ and all $1 \\le m_D \\le N_D$\n",
    "(weak-form-IBP)=\n",
    "$$\n",
    "    \\left\\lbrace\n",
    "    \\begin{array}{rcl}\n",
    "    \\sum_{j=1}^{N_T} \\int_\\Omega \\varphi_T^j(x) \\rho(x) C_V(x) \\varphi_T^i(x) {\\rm d}x \\, \\frac{\\rm d}{{\\rm d}t} T^j(t) &=& - \\sum_{\\ell=1}^{N_Q} \\int_\\Omega {\\rm div} \\left( \\varphi_Q^\\ell(x) \\right) \\varphi_T^i(x) {\\rm d}x \\, J_Q^\\ell(t), \\\\\n",
    "    \\sum_{\\ell=1}^{N_Q} \\int_\\Omega \\varphi_Q^\\ell(x) \\varphi_Q^k(x) {\\rm d}x \\, f_Q^\\ell(t) &=& \\sum_{j=1}^{N_Q} \\int_\\Omega \\varphi_T^j(x) {\\rm div} \\left( \\varphi_Q^k(x) \\right) {\\rm d}x \\, T^j(t) - \\sum_{n_D=1}^{N_D} \\int_{\\Gamma_D} \\varphi_Q^k(s) \\cdot n(s) \\psi_D^{n_D}(s) {\\rm d}s \\, u_D^{n_D}(t) - \\sum_{n_N=1}^{N_N} \\int_{\\Gamma_N} \\varphi_Q^k(s) \\cdot n(s) \\psi_N^{n_N}(s) {\\rm d}s \\, y_N^{n_N}(t), \\\\\n",
    "    \\sum_{n_D=1}^{N_D} \\left\\langle \\psi_D^{n_D}, \\psi_D^{m_D} \\right\\rangle_{\\Gamma_D} \\, y_D^{n_D}(t) &=& - \\sum_{\\ell=1}^{N_p} \\int_{\\Gamma_D} \\varphi_Q^\\ell(s) \\cdot n(s) \\psi_D^{m_D}(s) {\\rm d}s \\, J_Q^\\ell(t), \\\\\n",
    "    \\sum_{n_N=1}^{N_N} \\left\\langle \\psi_N^{n_N}, \\psi_N^{m_N} \\right\\rangle_{\\Gamma_N} \\, u_N^{n_N}(t) &=& - \\sum_{\\ell=1}^{N_p} \\int_{\\Gamma_N} \\varphi_Q^\\ell(s) \\cdot n(s) \\psi_N^{m_N}(s) {\\rm d}s \\, J_Q^\\ell(t),\n",
    "    \\end{array}\n",
    "    \\right.\n",
    "$$\n",
    "which rewrites in matrix form\n",
    "$$\n",
    "    \\underbrace{\\begin{bmatrix}\n",
    "    M_T & 0 & 0 & 0 \\\\\n",
    "    0 & M_Q & 0 & 0 \\\\\n",
    "    0 & 0 & M_D & 0 \\\\\n",
    "    0 & 0 & 0 & M_N\n",
    "    \\end{bmatrix}}_{= M}\n",
    "    \\begin{pmatrix}\n",
    "    \\frac{\\rm d}{{\\rm d}t} \\underline{T}(t) \\\\\n",
    "    \\underline{f_Q}(t) \\\\\n",
    "    -\\underline{y_D}(t) \\\\\n",
    "    \\underline{u_N}(t)\n",
    "    \\end{pmatrix}\n",
    "    =\n",
    "    \\underbrace{\\begin{bmatrix}\n",
    "    0 & D & 0 & 0 \\\\\n",
    "    -D^\\top & 0 & B_D & -B_N^T \\\\\n",
    "    0 & -B_D^\\top & 0 & 0 \\\\\n",
    "    0 & B_N & 0 & 0\n",
    "    \\end{bmatrix}}_{= J}\n",
    "    \\begin{pmatrix}\n",
    "    \\underline{T}(t) \\\\\n",
    "    \\underline{J_Q}(t) \\\\\n",
    "    \\underline{u_D}(t) \\\\\n",
    "    -\\underline{y_N}(t)\n",
    "    \\end{pmatrix},\n",
    "$$\n",
    "where $\\underline{\\star}(t) := \\begin{pmatrix} \\star^1(t) & \\cdots & \\star^{N_\\star} \\end{pmatrix}^\\top$ and\n",
    "(weak-form-matrices-1)=\n",
    "$$\n",
    "    (M_T)_{ij} := \\int_\\Omega \\varphi_T^j(x) \\varphi_T^i(x) {\\rm d}x,\n",
    "    \\qquad\n",
    "    (M_Q)_{k\\ell} := \\int_\\Omega \\varphi_Q^\\ell(x) \\cdot \\varphi_Q^k(x) {\\rm d}x,\n",
    "    \\qquad\n",
    "    (M_D)_{m_Dn_D} := \\int_{\\Gamma_D} \\psi_D^{n_D}(s) \\psi_D^{m_D}(s) {\\rm d}s,\n",
    "    \\qquad\n",
    "    (M_N)_{m_Nn_N} := \\int_{\\Gamma_N} \\psi_N^{n_N}(s) \\psi_N^{m_N}(s) {\\rm d}s,\n",
    "$$\n",
    "(weak-form-matrices-2)=\n",
    "$$\n",
    "    (D)_{i\\ell} := - \\int_\\Omega {\\rm div} \\left( \\varphi_Q^\\ell(x) \\right) \\cdot \\varphi_T^i(x) {\\rm d}x\n",
    "    \\qquad\n",
    "    (B_D)_{n_Dk} := - \\int_{\\Gamma_D} \\varphi_Q^k(s) \\cdot n(s) \\psi_D^{n_D}(s) {\\rm d}s,\n",
    "    \\qquad\n",
    "    (B_N)_{m_N\\ell} := - \\int_{\\Gamma_N} \\varphi_Q^\\ell(s) \\cdot n(s) \\psi_N^{m_N}(s) {\\rm d}s,,\n",
    "$$\n",
    "\n",
    "Now one can approximate the **constitutive relation**\n",
    "$$\n",
    "    \\int_\\Omega J_Q(t,x) \\cdot \\varphi_Q(x) {\\rm d}x = \\int_\\Omega f_Q(t,x) \\cdot \\lambda(x) \\cdot \\varphi_Q(x) {\\rm d}x,\n",
    "$$\n",
    "from which one can deduce the matrix form of the discrete weak formulation of the constitutive relation\n",
    "$$\n",
    "    M_Q \\underline{J_Q}(t) = \\Lambda \\underline{f_Q}(t),\n",
    "$$\n",
    "where\n",
    "(weak-form-matrices-3)=\n",
    "$$\n",
    "    (\\Lambda)_{k\\ell} := \\int_\\Omega \\varphi_Q^\\ell(x) \\cdot \\lambda(x) \\cdot \\varphi_Q^k(x) {\\rm d}x.\n",
    "$$\n",
    "\n",
    "Finally, the **discrete Hamiltonian** $\\mathcal{H}^d$ is defined as the evaluation of $\\mathcal{H}$ on the approximation of the **state variable**\n",
    "$$\n",
    "    \\mathcal{H}(t) := \\mathcal{H}(T^d(t)) = \\frac{1}{2} \\underline{T}(t)^\\top M_T \\underline{T}(t). \n",
    "$$\n",
    "\n",
    "The **discrete power balance** is then easily deduced from the above matrix formulations, thanks to the symmetry of $M$ and the skew-symmetry of $J$\n",
    "$$\n",
    "    \\frac{\\rm d}{{\\rm d}t} \\mathcal{H}^d(t) = - \\underline{f_Q}(t)^\\top \\Lambda \\underline{f_Q}(t)^\\top + \\underline{u_D}(t)^\\top M_D \\underline{y_D}(t) + \\underline{y_N}(t)^\\top M_N \\underline{u_N}(t).\n",
    "$$\n",
    "\n",
    "Simulation\n",
    "----------\n",
    "\n",
    "As usual, we start by importing the **SCRIMP** package. Then we define the Distributed Port-Hamiltonian System and attach a (built-in) domain to it.\n"
   ]
  },
  {
   "cell_type": "code",
   "execution_count": null,
   "id": "88b670cb-ca5d-458a-b8db-7bf011ed56f7",
   "metadata": {
    "tags": []
   },
   "outputs": [],
   "source": [
    "# Import scrimp\n",
    "import scrimp as S\n",
    "\n",
    "# Init the distributed port-Hamiltonian system\n",
    "heat = S.DPHS(\"real\")\n",
    "\n",
    "# Set the domain (using the built-in geometry `Rectangle`)\n",
    "# Labels: Omega = 1, Gamma_Bottom = 10, Gamma_Right = 11, Gamma_Top = 12, Gamma_Left = 13\n",
    "heat.set_domain(S.Domain(\"Rectangle\", {\"L\": 2.0, \"l\": 1.0, \"h\": 0.1}))"
   ]
  },
  {
   "cell_type": "markdown",
   "id": "ea8b8318-6a35-417d-b9ba-c1f8070917be",
   "metadata": {
    "tags": [],
    "user_expressions": []
   },
   "source": [
    "The next step is to define the state and its co-state. Care must be taken here: both are the temperature $T$, since the parameter $\\rho C_V$ have been taken into account as a weight in the $L^2$-inner product. Hence, one may save some computational burden by using `substituted=True` which says to **SCRIMP** that the co-state is substituted into the state! Only **one** variable is approximated and will be computed in the sequel.\n",
    "\n",
    "However, note that one could define a state $e$ (namely the *internal energy*), and add Dulong-Petit's law as a constitutive relation $e = C_V T$ as usual."
   ]
  },
  {
   "cell_type": "code",
   "execution_count": null,
   "id": "2b1c6899-7bea-4ab6-8538-64295b69e353",
   "metadata": {
    "tags": []
   },
   "outputs": [],
   "source": [
    "# Define the variables and their discretizations and add them to the dphs\n",
    "states = [\n",
    "    S.State(\"T\", \"Temperature\", \"scalar-field\"),\n",
    "]\n",
    "costates = [\n",
    "    # Substituted=True indicates that only one variable has to be discretized on this port\n",
    "    S.CoState(\"T\", \"Temperature\", states[0], substituted=True)\n",
    "]"
   ]
  },
  {
   "cell_type": "markdown",
   "id": "8ea57afd-824c-45e2-92e1-0f412fb808f5",
   "metadata": {
    "tags": [],
    "user_expressions": []
   },
   "source": [
    "Let us define the algebraic port."
   ]
  },
  {
   "cell_type": "code",
   "execution_count": null,
   "id": "4186bd9b-eeb1-4021-9c0d-ce0db365a5e1",
   "metadata": {
    "tags": []
   },
   "outputs": [],
   "source": [
    "ports = [\n",
    "    S.Port(\"Heat flux\", \"f_Q\", \"J_Q\", \"vector-field\"),\n",
    "]"
   ]
  },
  {
   "cell_type": "markdown",
   "id": "0be3cff8-f267-43d5-bcda-8c382129b943",
   "metadata": {
    "tags": [],
    "user_expressions": []
   },
   "source": [
    "And finally the control ports on each of the four boundary part."
   ]
  },
  {
   "cell_type": "code",
   "execution_count": null,
   "id": "63db456f-1853-4e36-88ed-145f2fed9073",
   "metadata": {
    "tags": []
   },
   "outputs": [],
   "source": [
    "control_ports = [\n",
    "    S.Control_Port(\n",
    "        \"Boundary control (bottom)\",\n",
    "        \"U_B\",\n",
    "        \"Temperature\",\n",
    "        \"Y_B\",\n",
    "        \"- Normal heat flux\",\n",
    "        \"scalar-field\",\n",
    "        region=10,\n",
    "        position=\"effort\",\n",
    "    ),\n",
    "    S.Control_Port(\n",
    "        \"Boundary control (right)\",\n",
    "        \"U_R\",\n",
    "        \"Temperature\",\n",
    "        \"Y_R\",\n",
    "        \"- Normal heat flux\",\n",
    "        \"scalar-field\",\n",
    "        region=11,\n",
    "        position=\"effort\",\n",
    "    ),\n",
    "    S.Control_Port(\n",
    "        \"Boundary control (top)\",\n",
    "        \"U_T\",\n",
    "        \"Temperature\",\n",
    "        \"Y_T\",\n",
    "        \"- Normal heat flux\",\n",
    "        \"scalar-field\",\n",
    "        region=12,\n",
    "        position=\"effort\",\n",
    "    ),\n",
    "    S.Control_Port(\n",
    "        \"Boundary control (left)\",\n",
    "        \"U_L\",\n",
    "        \"- Normal heat flux\",\n",
    "        \"Y_L\",\n",
    "        \"Temperature\",\n",
    "        \"scalar-field\",\n",
    "        region=13,\n",
    "        position=\"flow\",\n",
    "    ),\n",
    "]"
   ]
  },
  {
   "cell_type": "markdown",
   "id": "70489c16-8c21-4c09-98e8-68e1325e3595",
   "metadata": {
    "tags": [],
    "user_expressions": []
   },
   "source": [
    "Add all these objects to the `DPHS`."
   ]
  },
  {
   "cell_type": "code",
   "execution_count": null,
   "id": "9af3cbba-e27a-4e9f-a158-3db71868c43f",
   "metadata": {
    "tags": []
   },
   "outputs": [],
   "source": [
    "for state in states:\n",
    "    heat.add_state(state)\n",
    "for costate in costates:\n",
    "    heat.add_costate(costate)\n",
    "for port in ports:\n",
    "    heat.add_port(port)\n",
    "for ctrl_port in control_ports:\n",
    "    heat.add_control_port(ctrl_port)"
   ]
  },
  {
   "cell_type": "markdown",
   "id": "7ebe706f-9f22-4922-bbef-01d27f4c91aa",
   "metadata": {
    "tags": [],
    "user_expressions": []
   },
   "source": [
    "Now, we must define the finite element families on each port. As stated in the beginning, **only the $\\varphi_Q$ family needs a stronger regularity**. Let us choose continuous Galerkin approximation of order 2. Then, the divergence of $\\varphi_Q$ is easily approximated by discontinuous Galerkin of order 1. At the boundary, this latter regularity will then occur, hence the choice of discontinuous Galerkin of order 1 as well."
   ]
  },
  {
   "cell_type": "code",
   "execution_count": null,
   "id": "dd19158e-dc02-422a-8fb2-da4f04e0e14d",
   "metadata": {
    "tags": []
   },
   "outputs": [],
   "source": [
    "FEMs = [\n",
    "    S.FEM(states[0].get_name(), 1, FEM=\"DG\"),\n",
    "    S.FEM(ports[0].get_name(), 2, FEM=\"CG\"),\n",
    "    S.FEM(control_ports[0].get_name(), 1, FEM=\"DG\"),\n",
    "    S.FEM(control_ports[1].get_name(), 1, FEM=\"DG\"),\n",
    "    S.FEM(control_ports[2].get_name(), 1, FEM=\"DG\"),\n",
    "    S.FEM(control_ports[3].get_name(), 1, FEM=\"DG\"),\n",
    "]\n",
    "for FEM in FEMs:\n",
    "    heat.add_FEM(FEM)"
   ]
  },
  {
   "cell_type": "markdown",
   "id": "2fe48773-4eed-4e0f-b505-18543e315c4e",
   "metadata": {
    "tags": [],
    "user_expressions": []
   },
   "source": [
    "It is now time to define the parameters, namely $rho$, $C_V$ and $\\lambda$. For the sake of simplicity, we assume that $\\rho$ will take $C_V$ into account."
   ]
  },
  {
   "cell_type": "code",
   "execution_count": null,
   "id": "a1083fdc-5e89-4573-8822-bec4d17085b1",
   "metadata": {
    "tags": []
   },
   "outputs": [],
   "source": [
    "# Define the physical parameters\n",
    "parameters = [\n",
    "    S.Parameter(\"rho\", \"Mass density times heat capacity\", \"scalar-field\", \"3.\", \"T\"),\n",
    "    S.Parameter(\n",
    "        \"Lambda\",\n",
    "        \"Heat conductivity\",\n",
    "        \"tensor-field\",\n",
    "        \"[[1e-2,0.],[0.,1e-2]]\",\n",
    "        \"Heat flux\",\n",
    "    ),\n",
    "]\n",
    "# Add them to the dphs\n",
    "for parameter in parameters:\n",
    "    heat.add_parameter(parameter)"
   ]
  },
  {
   "cell_type": "markdown",
   "id": "e0a31be9-74ef-4216-af7a-f23c07c77212",
   "metadata": {
    "tags": [],
    "user_expressions": []
   },
   "source": [
    "Now the non-zero block matrices of the Dirac structure can be defined using the `Brick` object, as well as the constitutive relation, *i.e.* Fourier's law."
   ]
  },
  {
   "cell_type": "code",
   "execution_count": null,
   "id": "0fd07a38-6fb0-4dc8-8acd-3255e458e6f4",
   "metadata": {
    "tags": []
   },
   "outputs": [],
   "source": [
    "# Define the Dirac structure and the constitutive relations block matrices as `Brick`\n",
    "bricks = [\n",
    "    # Add the mass matrices from the left-hand side: the `flow` part of the Dirac structure\n",
    "    S.Brick(\"M_T\", \"T*rho*Test_T\", [1], dt=True, position=\"flow\"),\n",
    "    S.Brick(\"M_Q\", \"f_Q.Test_f_Q\", [1], position=\"flow\"),\n",
    "    S.Brick(\"M_Y_B\", \"Y_B*Test_Y_B\", [10], position=\"flow\"),\n",
    "    S.Brick(\"M_Y_R\", \"Y_R*Test_Y_R\", [11], position=\"flow\"),\n",
    "    S.Brick(\"M_Y_T\", \"Y_T*Test_Y_T\", [12], position=\"flow\"),\n",
    "    # Normal trace is imposed by Lagrange multiplier on the left side == the collocated output\n",
    "    S.Brick(\"M_Y_L\", \"U_L*Test_Y_L\", [13], position=\"flow\"),\n",
    "    # Add the matrices from the right-hand side: the `effort` part of the Dirac structure\n",
    "    S.Brick(\"D\", \"-Div(J_Q)*Test_T\", [1], position=\"effort\"),\n",
    "    S.Brick(\"-D^T\", \"T*Div(Test_f_Q)\", [1], position=\"effort\"),\n",
    "    S.Brick(\"B_B\", \"-U_B*Test_f_Q.Normal\", [10], position=\"effort\"),\n",
    "    S.Brick(\"B_R\", \"-U_R*Test_f_Q.Normal\", [11], position=\"effort\"),\n",
    "    S.Brick(\"B_T\", \"-U_T*Test_f_Q.Normal\", [12], position=\"effort\"),\n",
    "    # Normal trace is imposed by Lagrange multiplier on the left side == the collocated output\n",
    "    S.Brick(\"B_L\", \"-Y_L*Test_f_Q.Normal\", [13], position=\"effort\"),\n",
    "    S.Brick(\"C_B\", \"J_Q.Normal*Test_Y_B\", [10], position=\"effort\"),\n",
    "    S.Brick(\"C_R\", \"J_Q.Normal*Test_Y_R\", [11], position=\"effort\"),\n",
    "    S.Brick(\"C_T\", \"J_Q.Normal*Test_Y_T\", [12], position=\"effort\"),\n",
    "    S.Brick(\"C_L\", \"J_Q.Normal*Test_Y_L\", [13], position=\"effort\"),\n",
    "    ## Define the constitutive relations as getfem `brick`\n",
    "    # Fourier's law under implicit form - M_e_Q e_Q + CR_Q Q = 0\n",
    "    S.Brick(\"-M_J_Q\", \"-J_Q.Test_J_Q\", [1]),\n",
    "    S.Brick(\"CR_Q\", \"f_Q.Lambda.Test_J_Q\", [1]),\n",
    "]\n",
    "for brick in bricks:\n",
    "    heat.add_brick(brick)"
   ]
  },
  {
   "cell_type": "markdown",
   "id": "8835394c-6ba2-43a7-8514-be4da41f4154",
   "metadata": {
    "tags": [],
    "user_expressions": []
   },
   "source": [
    "As controls, we assume that the temperature is prescribed, while the inward heat flux is proportional to the temperature (*i.e.* we consider an impedance-like absorbing boundary condition). This is easily achieved in **SCRIMP** by calling the variable in the expression of the control to apply.\n",
    "\n",
    "The initial temperature profile is compatible with these controls, and has a positive bump centered in the domain."
   ]
  },
  {
   "cell_type": "code",
   "execution_count": null,
   "id": "8618eba7-e9d0-4b7a-9015-2f87f68e8258",
   "metadata": {
    "tags": []
   },
   "outputs": [],
   "source": [
    "# Initialize the problem\n",
    "expressions = [\"1.\", \"1.\", \"1.\", \"0.2*T\"]\n",
    "\n",
    "for control_port, expression in zip(control_ports, expressions):\n",
    "    # Set the control functions (automatic construction of bricks such that -M_u u + f(t) = 0)\n",
    "    heat.set_control(control_port.get_name(), expression)\n",
    "\n",
    "# Set the initial data\n",
    "heat.set_initial_value(\"T\", \"1. + 2.*np.exp(-50*((x-1)*(x-1)+(y-0.5)*(y-0.5))**2)\")"
   ]
  },
  {
   "cell_type": "markdown",
   "id": "11c5c789-e1d2-4407-949d-2783fc30a504",
   "metadata": {
    "tags": [],
    "user_expressions": []
   },
   "source": [
    "We can now solve our Differential Algebraic Equation (DAE) using, *e.g.*, a Backward Differentiation Formula (BDF) of order 4."
   ]
  },
  {
   "cell_type": "code",
   "execution_count": null,
   "id": "f2df1152-acf0-49c5-960f-807b1351a2d0",
   "metadata": {
    "tags": []
   },
   "outputs": [],
   "source": [
    "## Solve in time\n",
    "# Define the time scheme (\"bdf\" is backward differentiation formula)\n",
    "heat.set_time_scheme(t_f=5.,\n",
    "                     ts_type=\"bdf\", \n",
    "                     ts_bdf_order=4, \n",
    "                     dt=0.01,\n",
    "                     )\n",
    "\n",
    "# Solve\n",
    "heat.solve()"
   ]
  },
  {
   "cell_type": "markdown",
   "id": "bf8c03a6-0075-460f-ba2b-9c3fb0cc1675",
   "metadata": {
    "tags": [],
    "user_expressions": []
   },
   "source": [
    "The Hamiltonian may be defined, computed and plot."
   ]
  },
  {
   "cell_type": "code",
   "execution_count": null,
   "id": "73b4aef5-77be-4943-abe3-176ca5037951",
   "metadata": {
    "tags": []
   },
   "outputs": [],
   "source": [
    "## Post-processing\n",
    "# Set Hamiltonian name\n",
    "heat.hamiltonian.set_name(\"Lyapunov formulation\")\n",
    "# Define the term\n",
    "terms = [\n",
    "    S.Term(\"L^2-norm\", \"0.5*T*rho*T\", [1]),\n",
    "]\n",
    "# Add them to the Hamiltonian\n",
    "for term in terms:\n",
    "    heat.hamiltonian.add_term(term)\n",
    "\n",
    "# Plot the Hamiltonian\n",
    "heat.plot_Hamiltonian(save_figure=True)"
   ]
  }
 ],
 "metadata": {
  "kernelspec": {
   "display_name": "Python (scrimp)",
   "language": "python",
   "name": "scrimp"
  },
  "language_info": {
   "codemirror_mode": {
    "name": "ipython",
    "version": 3
   },
   "file_extension": ".py",
   "mimetype": "text/x-python",
   "name": "python",
   "nbconvert_exporter": "python",
   "pygments_lexer": "ipython3",
   "version": "3.12.2"
  }
 },
 "nbformat": 4,
 "nbformat_minor": 5
}

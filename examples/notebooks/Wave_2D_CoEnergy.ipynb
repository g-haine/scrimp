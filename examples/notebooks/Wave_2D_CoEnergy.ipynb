{
 "cells": [
  {
   "cell_type": "markdown",
   "id": "f9e0f1bb-ff69-4ab9-8333-bd771510328e",
   "metadata": {
    "tags": [],
    "user_expressions": []
   },
   "source": [
    "The 2-dimensional linear wave equation in co-energy formulation\n",
    "===============================================================\n",
    "\n",
    "The objective of this example is to show how sub-domains may be used, and how substitutions reduce the computational burden: it assumes that [this 2D wave example](https://g-haine.github.io/scrimp/examples/wave.html) has already been studied.\n",
    "\n",
    "Substitutions\n",
    "-------------\n",
    "\n",
    "The damped wave equation as a port-Hamiltonian system writes\n",
    "$$\n",
    "    \\begin{pmatrix} \\partial_t \\alpha_q \\\\ \\partial_t \\alpha_p \\\\ f_r \\end{pmatrix}\n",
    "    =\n",
    "    \\begin{bmatrix} 0 & {\\rm grad} & 0 \\\\ {\\rm div} & 0 & -I \\\\ 0 & I^\\top & 0 \\end{bmatrix}\n",
    "    \\begin{pmatrix} e_q \\\\ e_p \\\\ e_r \\end{pmatrix},\n",
    "$$\n",
    "where $\\alpha_q$ denotes the strain, $\\alpha_p$ is the linear momentum, $e_q$ is the stress, $e_p$ is the velocity and $(f_r,e_r)$ is the dissipative port.\n",
    "\n",
    "This system must be close with **constitutive relations**, which are\n",
    "$$\n",
    "    e_q = T \\cdot \\alpha_q, \\qquad e_p = \\frac{\\alpha_p}{\\rho}, \\qquad e_r = \\nu f_r,\n",
    "$$\n",
    "where $T$ is the Young's modulus, $\\rho$ the mass density and $\\nu$ the viscosity. Inverting these relations and substituting the results in the port-Hamiltonian system leads to the **co-energy formulation** (or more generally **co-state formulation**)\n",
    "$$\n",
    "    \\begin{pmatrix} T^{-1} \\cdot \\partial_t e_q \\\\ \\rho \\partial_t e_p \\\\ \\nu^{-1} e_r \\end{pmatrix}\n",
    "    =\n",
    "    \\begin{bmatrix} 0 & {\\rm grad} & 0 \\\\ {\\rm div} & 0 & -I \\\\ 0 & I^\\top & 0 \\end{bmatrix}\n",
    "    \\begin{pmatrix} e_q \\\\ e_p \\\\ e_r \\end{pmatrix}.\n",
    "$$\n",
    "\n",
    "At the discrete level, this allows to reduce the number of degrees of freedom by two.\n",
    "\n",
    "**Remark:** In the example, $\\nu$ only acts on a sub-domain, *i.e.* it is theoretically null on the complementary, and thus is not invertible! To be able to invert it, it is then mandatory to restrict the dissipative port to the sub-domain where $\\nu>0$.\n",
    "\n",
    "Simulation\n",
    "----------\n",
    "\n",
    "Let us start quickly until the definition of the dissipative port."
   ]
  },
  {
   "cell_type": "code",
   "execution_count": null,
   "id": "e02a50e9-681e-44e1-b85a-8f8bd2af2c16",
   "metadata": {
    "tags": []
   },
   "outputs": [],
   "source": [
    "# Import scrimp\n",
    "import scrimp as S\n",
    "\n",
    "# Init the distributed port-Hamiltonian system\n",
    "wave = S.DPHS(\"real\")\n",
    "\n",
    "# Set the domain (using the built-in geometry `Concentric`)\n",
    "# Labels: Disk = 1, Annulus = 2, Interface = 10, Boundary = 20\n",
    "omega = S.Domain(\"Concentric\", {\"R\": 1.0, \"r\": 0.6, \"h\": 0.1})\n",
    "\n",
    "# And add it to the dphs\n",
    "wave.set_domain(omega)\n",
    "\n",
    "## Define the variables\n",
    "states = [\n",
    "    S.State(\"q\", \"Stress\", \"vector-field\"),\n",
    "    S.State(\"p\", \"Velocity\", \"scalar-field\"),\n",
    "]\n",
    "# Use of the `substituted=True` keyword to get the co-energy formulation\n",
    "costates = [\n",
    "    S.CoState(\"e_q\", \"Stress\", states[0], substituted=True),\n",
    "    S.CoState(\"e_p\", \"Velocity\", states[1], substituted=True),\n",
    "]\n",
    "\n",
    "# Add them to the dphs\n",
    "for state in states:\n",
    "    wave.add_state(state)\n",
    "for costate in costates:\n",
    "    wave.add_costate(costate)"
   ]
  },
  {
   "cell_type": "markdown",
   "id": "2e0fd9ec-000b-4aa0-bb20-1a3d53b93811",
   "metadata": {
    "tags": [],
    "user_expressions": []
   },
   "source": [
    "In order to restrict the dissipative port to the internal disk, we use the `region` keyword."
   ]
  },
  {
   "cell_type": "code",
   "execution_count": null,
   "id": "60a779ac-048d-491c-b759-bab5c02e48dd",
   "metadata": {
    "tags": []
   },
   "outputs": [],
   "source": [
    "# Define the dissipative port, only on the subdomain labelled 1 = the internal disk\n",
    "ports = [\n",
    "    S.Port(\"Damping\", \"e_r\", \"e_r\", \"scalar-field\", substituted=True, region=1),\n",
    "]\n",
    "\n",
    "# Add it to the dphs\n",
    "for port in ports:\n",
    "    wave.add_port(port)"
   ]
  },
  {
   "cell_type": "markdown",
   "id": "70d34cf0-91fd-4b8b-b5f1-1c2842dbf8e1",
   "metadata": {
    "tags": [],
    "user_expressions": []
   },
   "source": [
    "The control port is only at the external boundary, labelled by 20 in **SCRIMP**."
   ]
  },
  {
   "cell_type": "code",
   "execution_count": null,
   "id": "39220595-c736-4bc6-8b20-b2bb26370d14",
   "metadata": {
    "tags": []
   },
   "outputs": [],
   "source": [
    "# Define the control port\n",
    "control_ports = [\n",
    "    S.Control_Port(\n",
    "        \"Boundary control\",\n",
    "        \"U\",\n",
    "        \"Normal force\",\n",
    "        \"Y\",\n",
    "        \"Velocity trace\",\n",
    "        \"scalar-field\",\n",
    "        region=20,\n",
    "    ),\n",
    "]\n",
    "\n",
    "# Add it to the dphs\n",
    "for ctrl_port in control_ports:\n",
    "    wave.add_control_port(ctrl_port)"
   ]
  },
  {
   "cell_type": "markdown",
   "id": "4cb0bdf6-d9ec-4ca3-b8ec-45e87ddd3940",
   "metadata": {
    "tags": [],
    "user_expressions": []
   },
   "source": [
    "The sequel is as for the already seen examples."
   ]
  },
  {
   "cell_type": "code",
   "execution_count": null,
   "id": "200b69d1-867d-41f2-906b-67fe36587d8b",
   "metadata": {
    "tags": []
   },
   "outputs": [],
   "source": [
    "# Define the Finite Elements Method of each port\n",
    "FEMs = [\n",
    "    S.FEM(states[0].get_name(), 1, \"DG\"),\n",
    "    S.FEM(states[1].get_name(), 2, \"CG\"),\n",
    "    S.FEM(ports[0].get_name(), 1, \"DG\"),\n",
    "    S.FEM(control_ports[0].get_name(), 1, \"DG\"),\n",
    "]\n",
    "\n",
    "# Add them to the dphs\n",
    "for FEM in FEMs:\n",
    "    wave.add_FEM(FEM)\n",
    "\n",
    "# Define physical parameters: care must be taken, \n",
    "# in the co-energy formulation, some parameters are\n",
    "# inverted in comparison to the classical formulation\n",
    "parameters = [\n",
    "    S.Parameter(\n",
    "        \"Tinv\",\n",
    "        \"Young's modulus inverse\",\n",
    "        \"tensor-field\",\n",
    "        \"[[5+x,x*y],[x*y,2+y]]\",\n",
    "        \"q\",\n",
    "    ),\n",
    "    S.Parameter(\"rho\", \"Mass density\", \"scalar-field\", \"3-x\", \"p\"),\n",
    "    S.Parameter(\n",
    "        \"nu\",\n",
    "        \"Viscosity\",\n",
    "        \"scalar-field\",\n",
    "        \"10*(0.36-(x*x+y*y))\",\n",
    "        ports[0].get_name(),\n",
    "    ),\n",
    "]\n",
    "\n",
    "# Add them to the dphs\n",
    "for parameter in parameters:\n",
    "    wave.add_parameter(parameter)"
   ]
  },
  {
   "cell_type": "markdown",
   "id": "ef8e9b1f-b607-402e-a59e-bcc7a2e67270",
   "metadata": {
    "tags": [],
    "user_expressions": []
   },
   "source": [
    "Regarding the `Brick` objects, there is a major difference with the previous examples: here, we need to list **all** the sub-domain labels for the wave equation, hence the `[1,2]`. On the other hand, the dissipation only occurs on the internal disk, labelled 1, and thus the block matrices corresponding to the identity operators which implement the dissipation **must be restrict to** `[1]`."
   ]
  },
  {
   "cell_type": "code",
   "execution_count": null,
   "id": "793d995f-cc92-459c-a742-bf495d5172ce",
   "metadata": {
    "tags": []
   },
   "outputs": [],
   "source": [
    "# Define the pHs via `Brick` == non-zero block matrices == variational terms\n",
    "# Since we use co-energy formulation, constitutive relations are already taken into\n",
    "# account in the mass matrices M_q and M_p\n",
    "bricks = [\n",
    "    ## Define the Dirac structure\n",
    "    # Define the mass matrices from the left-hand side: the `flow` part of the Dirac structure\n",
    "    S.Brick(\"M_q\", \"q.Tinv.Test_q\", [1, 2], dt=True, position=\"flow\"),\n",
    "    S.Brick(\"M_p\", \"p*rho*Test_p\", [1, 2], dt=True, position=\"flow\"),\n",
    "    S.Brick(\"M_r\", \"e_r/nu*Test_e_r\", [1], position=\"flow\"),\n",
    "    S.Brick(\"M_Y\", \"Y*Test_Y\", [20], position=\"flow\"),\n",
    "    # Define the matrices from the right-hand side: the `effort` part of the Dirac structure\n",
    "    S.Brick(\"D\", \"Grad(p).Test_q\", [1, 2], position=\"effort\"),\n",
    "    S.Brick(\"-D^T\", \"-q.Grad(Test_p)\", [1, 2], position=\"effort\"),\n",
    "    S.Brick(\"I_r\", \"e_r*Test_p\", [1], position=\"effort\"),\n",
    "    S.Brick(\"B\", \"U*Test_p\", [20], position=\"effort\"),\n",
    "    S.Brick(\"-I_r^T\", \"-p*Test_e_r\", [1], position=\"effort\"),\n",
    "    S.Brick(\"-B^T\", \"-p*Test_Y\", [20], position=\"effort\"),\n",
    "    ## Define the constitutive relations\n",
    "    # Already taken into account in the Dirac Structure!\n",
    "]\n",
    "\n",
    "# Add all these `Bricks` to the dphs\n",
    "for brick in bricks:\n",
    "    wave.add_brick(brick)"
   ]
  },
  {
   "cell_type": "markdown",
   "id": "d433ee21-04ab-4ea8-b50e-b433c68c7ece",
   "metadata": {
    "tags": [],
    "user_expressions": []
   },
   "source": [
    "The remaining part of the code have already been explain in previous examples."
   ]
  },
  {
   "cell_type": "code",
   "execution_count": null,
   "id": "a9eb5ac2-16ee-4c91-9c7b-15d3015e19bc",
   "metadata": {
    "tags": []
   },
   "outputs": [],
   "source": [
    "## Initialize the problem\n",
    "# The controls expression\n",
    "expressions = [\"0.5*Y\"]\n",
    "\n",
    "# Add each expression to its control_port\n",
    "for control_port, expression in zip(control_ports, expressions):\n",
    "    # Set the control functions (automatic construction of bricks such that -M_u u + f(t) = 0)\n",
    "    wave.set_control(control_port.get_name(), expression)\n",
    "\n",
    "# Set the initial data\n",
    "wave.set_initial_value(\"q\", \"[0., 0.]\")\n",
    "wave.set_initial_value(\"p\", \"2.72**(-20*((x-0.5)*(x-0.5)+(y-0.5)*(y-0.5)))\")\n",
    "\n",
    "## Solve in time\n",
    "# Define the time scheme (\"cn\" is Crank-Nicolson)\n",
    "wave.set_time_scheme(ts_type=\"cn\",\n",
    "                     t_f=2.0, \n",
    "                     dt_save=0.01,\n",
    "                     )\n",
    "\n",
    "# Solve\n",
    "wave.solve()\n",
    "\n",
    "## Post-processing\n",
    "## Set Hamiltonian's name\n",
    "wave.hamiltonian.set_name(\"Mechanical energy\")\n",
    "# Define each Hamiltonian Term\n",
    "terms = [\n",
    "    S.Term(\"Potential energy\", \"0.5*q.Tinv.q\", [1, 2]),\n",
    "    S.Term(\"Kinetic energy\", \"0.5*p*p*rho\", [1, 2]),\n",
    "]\n",
    "# Add them to the Hamiltonian\n",
    "for term in terms:\n",
    "    wave.hamiltonian.add_term(term)\n",
    "\n",
    "# Plot the Hamiltonian and save the output\n",
    "wave.plot_Hamiltonian(save_figure=True)"
   ]
  }
 ],
 "metadata": {
  "kernelspec": {
   "display_name": "Python (scrimp)",
   "language": "python",
   "name": "scrimp"
  },
  "language_info": {
   "codemirror_mode": {
    "name": "ipython",
    "version": 3
   },
   "file_extension": ".py",
   "mimetype": "text/x-python",
   "name": "python",
   "nbconvert_exporter": "python",
   "pygments_lexer": "ipython3",
   "version": "3.12.2"
  }
 },
 "nbformat": 4,
 "nbformat_minor": 5
}

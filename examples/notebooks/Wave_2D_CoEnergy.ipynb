{
 "cells": [
  {
   "cell_type": "markdown",
   "id": "f9e0f1bb-ff69-4ab9-8333-bd771510328e",
   "metadata": {
    "tags": [],
    "user_expressions": []
   },
   "source": [
    "The 2-dimensional linear wave equation in co-energy formulation\n",
    "===============================================================\n",
    "\n",
    "The objective of this example is to show how sub-domains may be used, and how substitutions reduce the computational burden: it assumes that [this 2D wave example](https://g-haine.github.io/scrimp/examples/wave.html) has already been studied.\n",
    "\n",
    "Substitutions\n",
    "-------------\n",
    "\n",
    "The damped wave equation as a port-Hamiltonian system writes\n",
    "$$\n",
    "    \\begin{pmatrix} \\partial_t \\alpha_q \\\\ \\partial_t \\alpha_p \\\\ f_r \\end{pmatrix}\n",
    "    =\n",
    "    \\begin{bmatrix} 0 & {\\rm grad} & 0 \\\\ {\\rm div} & 0 & -I \\\\ 0 & I^\\top & 0 \\end{bmatrix}\n",
    "    \\begin{pmatrix} e_q \\\\ e_p \\\\ e_r \\end{pmatrix},\n",
    "$$\n",
    "where $\\alpha_q$ denotes the strain, $\\alpha_p$ is the linear momentum, $e_q$ is the stress, $e_p$ is the velocity and $(f_r,e_r)$ is the dissipative port.\n",
    "\n",
    "This system must be close with **constitutive relations**, which are\n",
    "$$\n",
    "    e_q = T \\cdot \\alpha_q, \\qquad e_p = \\frac{\\alpha_p}{\\rho}, \\qquad e_r = \\nu f_r,\n",
    "$$\n",
    "where $T$ is the Young's modulus, $\\rho$ the mass density and $\\nu$ the viscosity. Inverting these relations and substituting the results in the port-Hamiltonian system leads to the **co-energy formulation** (or more generally **co-state formulation**)\n",
    "$$\n",
    "    \\begin{pmatrix} T^{-1} \\cdot \\partial_t e_q \\\\ \\rho \\partial_t e_p \\\\ \\nu^{-1} e_r \\end{pmatrix}\n",
    "    =\n",
    "    \\begin{bmatrix} 0 & {\\rm grad} & 0 \\\\ {\\rm div} & 0 & -I \\\\ 0 & I^\\top & 0 \\end{bmatrix}\n",
    "    \\begin{pmatrix} e_q \\\\ e_p \\\\ e_r \\end{pmatrix}.\n",
    "$$\n",
    "\n",
    "At the discrete level, this allows to reduce the number of degrees of freedom by two.\n",
    "\n",
    "**Remark:** In the example, $\\nu$ only acts on a sub-domain, *i.e.* it is theoretically null on the complementary, and thus could not be invert! To be able to invert it, it is then mandatory to restrict the dissipative port to the sub-domain where $\\nu>0$.\n",
    "\n",
    "Simulation\n",
    "----------\n",
    "\n",
    "Let us start quickly until the definition of the dissipative port."
   ]
  },
  {
   "cell_type": "code",
   "execution_count": 1,
   "id": "e02a50e9-681e-44e1-b85a-8f8bd2af2c16",
   "metadata": {
    "tags": []
   },
   "outputs": [
    {
     "name": "stderr",
     "output_type": "stream",
     "text": [
      "A model with real unknowns has been initialized\n",
      "A disk of radius 0.6 surrounded by an annulus of radii 0.6 and 1.0 has been meshed\n",
      "Domain has been set\n",
      "Domain is set and contains 1 mesh(es):\n",
      "=== on mesh 0 of dim 2\n",
      "* Subdomains are: {'Omega_Disk': 1, 'Omega_Annulus': 2}\n",
      "* Boundaries are: {'Interface': 10, 'Gamma': 20}\n",
      "domain: Concentric has been set\n",
      "state: q has been added\n",
      "state: p has been added\n",
      "port: q has been added \n",
      "costate: e_q has been added to state: q\n",
      "state: q has new costate: e_q\n",
      "port: p has been added \n",
      "costate: e_p has been added to state: p\n",
      "state: p has new costate: e_p\n"
     ]
    },
    {
     "name": "stdout",
     "output_type": "stream",
     "text": [
      "message from gf_mesh_get follow:\n",
      "gfMesh object in dimension 2 with 451 points and 835 elements\n",
      "\n"
     ]
    }
   ],
   "source": [
    "# Import scrimp\n",
    "import scrimp as S\n",
    "\n",
    "# Init the distributed port-Hamiltonian system\n",
    "wave = S.DPHS(\"real\")\n",
    "\n",
    "# Set the domain (using the built-in geometry `Concentric`)\n",
    "# Labels: Disk = 1, Annulus = 2, Interface = 10, Boundary = 20\n",
    "omega = S.Domain(\"Concentric\", {\"R\": 1.0, \"r\": 0.6, \"h\": 0.1})\n",
    "\n",
    "# And add it to the dphs\n",
    "wave.set_domain(omega)\n",
    "\n",
    "## Define the variables\n",
    "states = [\n",
    "    S.State(\"q\", \"Stress\", \"vector-field\"),\n",
    "    S.State(\"p\", \"Velocity\", \"scalar-field\"),\n",
    "]\n",
    "# Use of the `substituted=True` keyword to get the co-energy formulation\n",
    "costates = [\n",
    "    S.CoState(\"e_q\", \"Stress\", states[0], substituted=True),\n",
    "    S.CoState(\"e_p\", \"Velocity\", states[1], substituted=True),\n",
    "]\n",
    "\n",
    "# Add them to the dphs\n",
    "for state in states:\n",
    "    wave.add_state(state)\n",
    "for costate in costates:\n",
    "    wave.add_costate(costate)"
   ]
  },
  {
   "cell_type": "markdown",
   "id": "2e0fd9ec-000b-4aa0-bb20-1a3d53b93811",
   "metadata": {
    "tags": [],
    "user_expressions": []
   },
   "source": [
    "In order to restrict the dissipative port to the internal disk, we use the `region` keyword."
   ]
  },
  {
   "cell_type": "code",
   "execution_count": 2,
   "id": "60a779ac-048d-491c-b759-bab5c02e48dd",
   "metadata": {
    "tags": []
   },
   "outputs": [
    {
     "name": "stderr",
     "output_type": "stream",
     "text": [
      "port: Damping has been added on region 1\n"
     ]
    }
   ],
   "source": [
    "# Define the dissipative port, only on the subdomain labelled 1 = the internal disk\n",
    "ports = [\n",
    "    S.Port(\"Damping\", \"e_r\", \"e_r\", \"scalar-field\", substituted=True, region=1),\n",
    "]\n",
    "\n",
    "# Add it to the dphs\n",
    "for port in ports:\n",
    "    wave.add_port(port)"
   ]
  },
  {
   "cell_type": "markdown",
   "id": "70d34cf0-91fd-4b8b-b5f1-1c2842dbf8e1",
   "metadata": {
    "tags": [],
    "user_expressions": []
   },
   "source": [
    "The control port is only at the external boundary, labelled by 20 in **SCRIMP**."
   ]
  },
  {
   "cell_type": "code",
   "execution_count": 3,
   "id": "39220595-c736-4bc6-8b20-b2bb26370d14",
   "metadata": {
    "tags": []
   },
   "outputs": [
    {
     "name": "stderr",
     "output_type": "stream",
     "text": [
      "port: Boundary control has been added on region 20\n"
     ]
    }
   ],
   "source": [
    "# Define the control port\n",
    "control_ports = [\n",
    "    S.Control_Port(\n",
    "        \"Boundary control\",\n",
    "        \"U\",\n",
    "        \"Normal force\",\n",
    "        \"Y\",\n",
    "        \"Velocity trace\",\n",
    "        \"scalar-field\",\n",
    "        region=20,\n",
    "    ),\n",
    "]\n",
    "\n",
    "# Add it to the dphs\n",
    "for ctrl_port in control_ports:\n",
    "    wave.add_control_port(ctrl_port)"
   ]
  },
  {
   "cell_type": "markdown",
   "id": "4cb0bdf6-d9ec-4ca3-b8ec-45e87ddd3940",
   "metadata": {
    "tags": [],
    "user_expressions": []
   },
   "source": [
    "The sequel is as for the already seen examples."
   ]
  },
  {
   "cell_type": "code",
   "execution_count": 4,
   "id": "200b69d1-867d-41f2-906b-67fe36587d8b",
   "metadata": {
    "tags": []
   },
   "outputs": [
    {
     "name": "stderr",
     "output_type": "stream",
     "text": [
      "FEM_PK_DISCONTINUOUS(2,1) has been set for port q\n",
      "FEM_PK(2,2) has been set for port p\n",
      "FEM_PK_DISCONTINUOUS(2,1) has been set for port Damping\n",
      "FEM_PK_DISCONTINUOUS(2,1) has been set for port Boundary control\n",
      "Tinv has been added to port: q\n",
      "Tinv has been set to [[5+x,x*y],[x*y,2+y]] in port: q\n",
      "Tinv has been initialized with the FEM of port: q\n",
      "rho has been added to port: p\n",
      "rho has been set to 3-x in port: p\n",
      "rho has been initialized with the FEM of port: p\n",
      "nu has been added to port: Damping\n",
      "nu has been set to 10*(0.36-(x*x+y*y)) in port: Damping\n",
      "nu has been initialized with the FEM of port: Damping\n"
     ]
    },
    {
     "name": "stdout",
     "output_type": "stream",
     "text": [
      "message from gf_mesh_fem_get follow:\n",
      "gfMeshFem object in dimension 2 with 451 points, 835 elements and 5010 degrees of freedom\n",
      "\n",
      "message from gf_mesh_fem_get follow:\n",
      "gfMeshFem object in dimension 2 with 451 points, 835 elements and 1734 degrees of freedom\n",
      "\n",
      "message from gf_mesh_fem_get follow:\n",
      "gfMeshFem object in dimension 2 with 451 points, 835 elements and 2505 degrees of freedom\n",
      "\n",
      "message from gf_mesh_fem_get follow:\n",
      "gfMeshFem object in dimension 2 with 451 points, 835 elements and 2505 degrees of freedom\n",
      "\n"
     ]
    }
   ],
   "source": [
    "# Define the Finite Elements Method of each port\n",
    "FEMs = [\n",
    "    # name of the variable: (is the same of states, ports and controls ports), order, FEM\n",
    "    S.FEM(states[0].get_name(), 1, \"DG\"),\n",
    "    S.FEM(states[1].get_name(), 2, \"CG\"),\n",
    "    S.FEM(ports[0].get_name(), 1, \"DG\"),\n",
    "    S.FEM(control_ports[0].get_name(), 1, \"DG\"),\n",
    "]\n",
    "\n",
    "# Add them to the dphs\n",
    "for FEM in FEMs:\n",
    "    wave.add_FEM(FEM)\n",
    "\n",
    "# Define physical parameters: care must be taken, \n",
    "# in the co-energy formulation, some parameters are\n",
    "# inverted in comparison to the classical formulation\n",
    "parameters = [\n",
    "    S.Parameter(\n",
    "        \"Tinv\",\n",
    "        \"Young's modulus inverse\",\n",
    "        \"tensor-field\",\n",
    "        \"[[5+x,x*y],[x*y,2+y]]\",\n",
    "        \"q\",\n",
    "    ),\n",
    "    S.Parameter(\"rho\", \"Mass density\", \"scalar-field\", \"3-x\", \"p\"),\n",
    "    S.Parameter(\n",
    "        \"nu\",\n",
    "        \"Viscosity\",\n",
    "        \"scalar-field\",\n",
    "        \"10*(0.36-(x*x+y*y))\",\n",
    "        ports[0].get_name(),\n",
    "    ),\n",
    "]\n",
    "\n",
    "# Add them to the dphs\n",
    "for parameter in parameters:\n",
    "    wave.add_parameter(parameter)"
   ]
  },
  {
   "cell_type": "markdown",
   "id": "ef8e9b1f-b607-402e-a59e-bcc7a2e67270",
   "metadata": {
    "tags": [],
    "user_expressions": []
   },
   "source": [
    "Regarding the `Brick` objects, there is a major difference with the previous examples: here, we need to list **all** the sub-domain labels for the wave equation, hence the `[1,2]`. On the other hand, the dissipation only occurs on the internal disk, labelled 1, and thus the block matrices corresponding to the identity operators which implement the dissipation **must be restrict to** `[1]`."
   ]
  },
  {
   "cell_type": "code",
   "execution_count": 5,
   "id": "793d995f-cc92-459c-a742-bf495d5172ce",
   "metadata": {
    "tags": []
   },
   "outputs": [
    {
     "name": "stderr",
     "output_type": "stream",
     "text": [
      "Linear form  'q.Tinv.Test_q' has been added as: flow relation on region: 1 of mesh: 0\n",
      "Linear form  'q.Tinv.Test_q' has been added as: flow relation on region: 2 of mesh: 0\n",
      "Linear form  'p*rho*Test_p' has been added as: flow relation on region: 1 of mesh: 0\n",
      "Linear form  'p*rho*Test_p' has been added as: flow relation on region: 2 of mesh: 0\n",
      "Linear form  'e_r/nu*Test_e_r' has been added as: flow relation on region: 1 of mesh: 0\n",
      "Linear form  'Y*Test_Y' has been added as: flow relation on region: 20 of mesh: 0\n",
      "Linear form  'Grad(p).Test_q' has been added as: effort relation on region: 1 of mesh: 0\n",
      "Linear form  'Grad(p).Test_q' has been added as: effort relation on region: 2 of mesh: 0\n",
      "Linear form  '-q.Grad(Test_p)' has been added as: effort relation on region: 1 of mesh: 0\n",
      "Linear form  '-q.Grad(Test_p)' has been added as: effort relation on region: 2 of mesh: 0\n",
      "Linear form  'e_r*Test_p' has been added as: effort relation on region: 1 of mesh: 0\n",
      "Linear form  'U*Test_p' has been added as: effort relation on region: 20 of mesh: 0\n",
      "Linear form  '-p*Test_e_r' has been added as: effort relation on region: 1 of mesh: 0\n",
      "Linear form  '-p*Test_Y' has been added as: effort relation on region: 20 of mesh: 0\n"
     ]
    }
   ],
   "source": [
    "# Define the pHs via `Brick` == non-zero block matrices == variational terms\n",
    "# Since we use co-energy formulation, constitutive relations are already taken into\n",
    "# account in the mass matrices M_q and M_p\n",
    "bricks = [\n",
    "    ## Define the Dirac structure\n",
    "    # Define the mass matrices from the left-hand side: the `flow` part of the Dirac structure\n",
    "    S.Brick(\"M_q\", \"q.Tinv.Test_q\", [1, 2], dt=True, position=\"flow\"),\n",
    "    S.Brick(\"M_p\", \"p*rho*Test_p\", [1, 2], dt=True, position=\"flow\"),\n",
    "    S.Brick(\"M_r\", \"e_r/nu*Test_e_r\", [1], position=\"flow\"),\n",
    "    S.Brick(\"M_Y\", \"Y*Test_Y\", [20], position=\"flow\"),\n",
    "    # Define the matrices from the right-hand side: the `effort` part of the Dirac structure\n",
    "    S.Brick(\"D\", \"Grad(p).Test_q\", [1, 2], position=\"effort\"),\n",
    "    S.Brick(\"-D^T\", \"-q.Grad(Test_p)\", [1, 2], position=\"effort\"),\n",
    "    S.Brick(\"I_r\", \"e_r*Test_p\", [1], position=\"effort\"),\n",
    "    S.Brick(\"B\", \"U*Test_p\", [20], position=\"effort\"),\n",
    "    S.Brick(\"-I_r^T\", \"-p*Test_e_r\", [1], position=\"effort\"),\n",
    "    S.Brick(\"-B^T\", \"-p*Test_Y\", [20], position=\"effort\"),\n",
    "    ## Define the constitutive relations\n",
    "    # Already taken into account in the Dirac Structure!\n",
    "]\n",
    "\n",
    "# Add all these `Bricks` to the dphs\n",
    "for brick in bricks:\n",
    "    wave.add_brick(brick)"
   ]
  },
  {
   "cell_type": "markdown",
   "id": "d433ee21-04ab-4ea8-b50e-b433c68c7ece",
   "metadata": {
    "tags": [],
    "user_expressions": []
   },
   "source": [
    "The remaining part of the code have already been explain in previous examples."
   ]
  },
  {
   "cell_type": "code",
   "execution_count": 6,
   "id": "a9eb5ac2-16ee-4c91-9c7b-15d3015e19bc",
   "metadata": {
    "tags": []
   },
   "outputs": [
    {
     "name": "stderr",
     "output_type": "stream",
     "text": [
      "Linear form  '-U*Test_U' has been added as: constitutive relation on region: 20 of mesh: 0\n",
      "Source form  '0.5*Y' has been added as: source relation on region: 20 of mesh: 0\n",
      "Control port: Boundary control has been set to: U = 0.5*Y on region: 20 of mesh: 0\n",
      "q has been set\n",
      "q has been initialized with: [0., 0.]\n",
      "p has been set\n",
      "p has been initialized with: 2.72**(-20*((x-0.5)*(x-0.5)+(y-0.5)*(y-0.5)))\n",
      "Simulation is starting on 1 processor(s) (total number of dofs: 7905)\n",
      "Starting linear mass matrix assembly...\n",
      "Linear mass matrix assembly done in 0.09778s\n",
      "Starting linear stiffness matrix assembly...\n",
      "Linear stiffness matrix assembly done in 0.1133s\n",
      "Perform initialisation using 1 step(s) of a pseudo scheme, with timestep 0.0001, for initial value consistency\n",
      "Initialisation done in 0.0726s\n"
     ]
    },
    {
     "name": "stdout",
     "output_type": "stream",
     "text": [
      "i=       0 t=       0 * (0s)   dt=    0.01        \n",
      "i=       1 t=    0.01 * (0s)   dt=    0.01        \n",
      "i=       2 t=    0.02 * (0s)   dt=    0.01        \n",
      "i=       3 t=    0.03 * (0s)   dt=    0.01        \n",
      "i=       4 t=    0.04 * (0s)   dt=    0.01        \n",
      "i=       5 t=    0.05 * (0s)   dt=    0.01        \n",
      "i=       6 t=    0.06 * (0s)   dt=    0.01        \n",
      "i=       7 t=    0.07 * (0s)   dt=    0.01        \n",
      "i=       8 t=    0.08 * (0s)   dt=    0.01        \n",
      "i=       9 t=    0.09 * (0s)   dt=    0.01        \n",
      "i=      10 t=     0.1 * (0s)   dt=    0.01        \n",
      "i=      11 t=    0.11 * (0s)   dt=    0.01        \n",
      "i=      12 t=    0.12 * (0s)   dt=    0.01        \n",
      "i=      13 t=    0.13 * (0s)   dt=    0.01        \n",
      "i=      14 t=    0.14 * (0s)   dt=    0.01        \n",
      "i=      15 t=    0.15 * (0s)   dt=    0.01        \n",
      "i=      16 t=    0.16 * (0s)   dt=    0.01        \n",
      "i=      17 t=    0.17 * (0s)   dt=    0.01        \n",
      "i=      18 t=    0.18 * (0s)   dt=    0.01        \n",
      "i=      19 t=    0.19 * (0s)   dt=    0.01        \n",
      "i=      20 t=     0.2 * (0s)   dt=    0.01        \n",
      "i=      21 t=    0.21 * (0s)   dt=    0.01        \n",
      "i=      22 t=    0.22 * (1s)   dt=    0.01        \n",
      "i=      23 t=    0.23 * (1s)   dt=    0.01        \n",
      "i=      24 t=    0.24 * (1s)   dt=    0.01        \n",
      "i=      25 t=    0.25 * (1s)   dt=    0.01        \n",
      "i=      26 t=    0.26 * (1s)   dt=    0.01        \n",
      "i=      27 t=    0.27 * (1s)   dt=    0.01        \n",
      "i=      28 t=    0.28 * (1s)   dt=    0.01        \n",
      "i=      29 t=    0.29 * (1s)   dt=    0.01        \n",
      "i=      30 t=     0.3 * (1s)   dt=    0.01        \n",
      "i=      31 t=    0.31 * (1s)   dt=    0.01        \n",
      "i=      32 t=    0.32 * (1s)   dt=    0.01        \n",
      "i=      33 t=    0.33 * (1s)   dt=    0.01        \n",
      "i=      34 t=    0.34 * (1s)   dt=    0.01        \n",
      "i=      35 t=    0.35 * (1s)   dt=    0.01        \n",
      "i=      36 t=    0.36 * (1s)   dt=    0.01        \n",
      "i=      37 t=    0.37 * (1s)   dt=    0.01        \n",
      "i=      38 t=    0.38 * (1s)   dt=    0.01        \n",
      "i=      39 t=    0.39 * (1s)   dt=    0.01        \n",
      "i=      40 t=     0.4 * (1s)   dt=    0.01        \n",
      "i=      41 t=    0.41 * (1s)   dt=    0.01        \n",
      "i=      42 t=    0.42 * (1s)   dt=    0.01        \n",
      "i=      43 t=    0.43 * (1s)   dt=    0.01        \n",
      "i=      44 t=    0.44 * (1s)   dt=    0.01        \n",
      "i=      45 t=    0.45 * (2s)   dt=    0.01        \n",
      "i=      46 t=    0.46 * (2s)   dt=    0.01        \n",
      "i=      47 t=    0.47 * (2s)   dt=    0.01        \n",
      "i=      48 t=    0.48 * (2s)   dt=    0.01        \n",
      "i=      49 t=    0.49 * (2s)   dt=    0.01        \n",
      "i=      50 t=     0.5 * (2s)   dt=    0.01        \n",
      "i=      51 t=    0.51 * (2s)   dt=    0.01        \n",
      "i=      52 t=    0.52 * (2s)   dt=    0.01        \n",
      "i=      53 t=    0.53 * (2s)   dt=    0.01        \n",
      "i=      54 t=    0.54 * (2s)   dt=    0.01        \n",
      "i=      55 t=    0.55 * (2s)   dt=    0.01        \n",
      "i=      56 t=    0.56 * (2s)   dt=    0.01        \n",
      "i=      57 t=    0.57 * (2s)   dt=    0.01        \n",
      "i=      58 t=    0.58 * (2s)   dt=    0.01        \n",
      "i=      59 t=    0.59 * (2s)   dt=    0.01        \n",
      "i=      60 t=     0.6 * (2s)   dt=    0.01        \n",
      "i=      61 t=    0.61 * (2s)   dt=    0.01        \n",
      "i=      62 t=    0.62 * (2s)   dt=    0.01        \n",
      "i=      63 t=    0.63 * (2s)   dt=    0.01        \n",
      "i=      64 t=    0.64 * (2s)   dt=    0.01        \n",
      "i=      65 t=    0.65 * (2s)   dt=    0.01        \n",
      "i=      66 t=    0.66 * (2s)   dt=    0.01        \n",
      "i=      67 t=    0.67 * (2s)   dt=    0.01        \n",
      "i=      68 t=    0.68 * (2s)   dt=    0.01        \n",
      "i=      69 t=    0.69 * (3s)   dt=    0.01        \n",
      "i=      70 t=     0.7 * (3s)   dt=    0.01        \n",
      "i=      71 t=    0.71 * (3s)   dt=    0.01        \n",
      "i=      72 t=    0.72 * (3s)   dt=    0.01        \n",
      "i=      73 t=    0.73 * (3s)   dt=    0.01        \n",
      "i=      74 t=    0.74 * (3s)   dt=    0.01        \n",
      "i=      75 t=    0.75 * (3s)   dt=    0.01        \n",
      "i=      76 t=    0.76 * (3s)   dt=    0.01        \n",
      "i=      77 t=    0.77 * (3s)   dt=    0.01        \n",
      "i=      78 t=    0.78 * (3s)   dt=    0.01        \n",
      "i=      79 t=    0.79 * (3s)   dt=    0.01        \n",
      "i=      80 t=     0.8 * (3s)   dt=    0.01        \n",
      "i=      81 t=    0.81 * (3s)   dt=    0.01        \n",
      "i=      82 t=    0.82 * (3s)   dt=    0.01        \n",
      "i=      83 t=    0.83 * (3s)   dt=    0.01        \n",
      "i=      84 t=    0.84 * (3s)   dt=    0.01        \n",
      "i=      85 t=    0.85 * (3s)   dt=    0.01        \n",
      "i=      86 t=    0.86 * (3s)   dt=    0.01        \n",
      "i=      87 t=    0.87 * (3s)   dt=    0.01        \n",
      "i=      88 t=    0.88 * (3s)   dt=    0.01        \n",
      "i=      89 t=    0.89 * (3s)   dt=    0.01        \n",
      "i=      90 t=     0.9 * (3s)   dt=    0.01        \n",
      "i=      91 t=    0.91 * (3s)   dt=    0.01        \n",
      "i=      92 t=    0.92 * (4s)   dt=    0.01        \n",
      "i=      93 t=    0.93 * (4s)   dt=    0.01        \n",
      "i=      94 t=    0.94 * (4s)   dt=    0.01        \n",
      "i=      95 t=    0.95 * (4s)   dt=    0.01        \n",
      "i=      96 t=    0.96 * (4s)   dt=    0.01        \n",
      "i=      97 t=    0.97 * (4s)   dt=    0.01        \n",
      "i=      98 t=    0.98 * (4s)   dt=    0.01        \n",
      "i=      99 t=    0.99 * (4s)   dt=    0.01        \n",
      "i=     100 t=       1 * (4s)   dt=    0.01        \n",
      "i=     101 t=    1.01 * (4s)   dt=    0.01        \n",
      "i=     102 t=    1.02 * (4s)   dt=    0.01        \n",
      "i=     103 t=    1.03 * (4s)   dt=    0.01        \n",
      "i=     104 t=    1.04 * (4s)   dt=    0.01        \n",
      "i=     105 t=    1.05 * (4s)   dt=    0.01        \n",
      "i=     106 t=    1.06 * (4s)   dt=    0.01        \n",
      "i=     107 t=    1.07 * (4s)   dt=    0.01        \n",
      "i=     108 t=    1.08 * (4s)   dt=    0.01        \n",
      "i=     109 t=    1.09 * (4s)   dt=    0.01        \n",
      "i=     110 t=     1.1 * (4s)   dt=    0.01        \n",
      "i=     111 t=    1.11 * (4s)   dt=    0.01        \n",
      "i=     112 t=    1.12 * (4s)   dt=    0.01        \n",
      "i=     113 t=    1.13 * (4s)   dt=    0.01        \n",
      "i=     114 t=    1.14 * (4s)   dt=    0.01        \n",
      "i=     115 t=    1.15 * (5s)   dt=    0.01        \n",
      "i=     116 t=    1.16 * (5s)   dt=    0.01        \n",
      "i=     117 t=    1.17 * (5s)   dt=    0.01        \n",
      "i=     118 t=    1.18 * (5s)   dt=    0.01        \n",
      "i=     119 t=    1.19 * (5s)   dt=    0.01        \n",
      "i=     120 t=     1.2 * (5s)   dt=    0.01        \n",
      "i=     121 t=    1.21 * (5s)   dt=    0.01        \n",
      "i=     122 t=    1.22 * (5s)   dt=    0.01        \n",
      "i=     123 t=    1.23 * (5s)   dt=    0.01        \n",
      "i=     124 t=    1.24 * (5s)   dt=    0.01        \n",
      "i=     125 t=    1.25 * (5s)   dt=    0.01        \n",
      "i=     126 t=    1.26 * (5s)   dt=    0.01        \n",
      "i=     127 t=    1.27 * (5s)   dt=    0.01        \n",
      "i=     128 t=    1.28 * (5s)   dt=    0.01        \n",
      "i=     129 t=    1.29 * (5s)   dt=    0.01        \n",
      "i=     130 t=     1.3 * (5s)   dt=    0.01        \n",
      "i=     131 t=    1.31 * (5s)   dt=    0.01        \n",
      "i=     132 t=    1.32 * (5s)   dt=    0.01        \n",
      "i=     133 t=    1.33 * (5s)   dt=    0.01        \n",
      "i=     134 t=    1.34 * (5s)   dt=    0.01        \n",
      "i=     135 t=    1.35 * (5s)   dt=    0.01        \n",
      "i=     136 t=    1.36 * (5s)   dt=    0.01        \n",
      "i=     137 t=    1.37 * (5s)   dt=    0.01        \n",
      "i=     138 t=    1.38 * (5s)   dt=    0.01        \n",
      "i=     139 t=    1.39 * (6s)   dt=    0.01        \n",
      "i=     140 t=     1.4 * (6s)   dt=    0.01        \n",
      "i=     141 t=    1.41 * (6s)   dt=    0.01        \n",
      "i=     142 t=    1.42 * (6s)   dt=    0.01        \n",
      "i=     143 t=    1.43 * (6s)   dt=    0.01        \n",
      "i=     144 t=    1.44 * (6s)   dt=    0.01        \n",
      "i=     145 t=    1.45 * (6s)   dt=    0.01        \n",
      "i=     146 t=    1.46 * (6s)   dt=    0.01        \n",
      "i=     147 t=    1.47 * (6s)   dt=    0.01        \n",
      "i=     148 t=    1.48 * (6s)   dt=    0.01        \n",
      "i=     149 t=    1.49 * (6s)   dt=    0.01        \n",
      "i=     150 t=     1.5 * (6s)   dt=    0.01        \n",
      "i=     151 t=    1.51 * (6s)   dt=    0.01        \n",
      "i=     152 t=    1.52 * (6s)   dt=    0.01        \n",
      "i=     153 t=    1.53 * (6s)   dt=    0.01        \n",
      "i=     154 t=    1.54 * (6s)   dt=    0.01        \n",
      "i=     155 t=    1.55 * (6s)   dt=    0.01        \n",
      "i=     156 t=    1.56 * (6s)   dt=    0.01        \n",
      "i=     157 t=    1.57 * (6s)   dt=    0.01        \n",
      "i=     158 t=    1.58 * (6s)   dt=    0.01        \n",
      "i=     159 t=    1.59 * (6s)   dt=    0.01        \n",
      "i=     160 t=     1.6 * (6s)   dt=    0.01        \n",
      "i=     161 t=    1.61 * (6s)   dt=    0.01        \n",
      "i=     162 t=    1.62 * (6s)   dt=    0.01        \n",
      "i=     163 t=    1.63 * (7s)   dt=    0.01        \n",
      "i=     164 t=    1.64 * (7s)   dt=    0.01        \n",
      "i=     165 t=    1.65 * (7s)   dt=    0.01        \n",
      "i=     166 t=    1.66 * (7s)   dt=    0.01        \n",
      "i=     167 t=    1.67 * (7s)   dt=    0.01        \n",
      "i=     168 t=    1.68 * (7s)   dt=    0.01        \n",
      "i=     169 t=    1.69 * (7s)   dt=    0.01        \n",
      "i=     170 t=     1.7 * (7s)   dt=    0.01        \n",
      "i=     171 t=    1.71 * (7s)   dt=    0.01        \n",
      "i=     172 t=    1.72 * (7s)   dt=    0.01        \n",
      "i=     173 t=    1.73 * (7s)   dt=    0.01        \n",
      "i=     174 t=    1.74 * (7s)   dt=    0.01        \n",
      "i=     175 t=    1.75 * (7s)   dt=    0.01        \n",
      "i=     176 t=    1.76 * (7s)   dt=    0.01        \n",
      "i=     177 t=    1.77 * (7s)   dt=    0.01        \n",
      "i=     178 t=    1.78 * (7s)   dt=    0.01        \n",
      "i=     179 t=    1.79 * (7s)   dt=    0.01        \n",
      "i=     180 t=     1.8 * (7s)   dt=    0.01        \n",
      "i=     181 t=    1.81 * (7s)   dt=    0.01        \n",
      "i=     182 t=    1.82 * (7s)   dt=    0.01        \n",
      "i=     183 t=    1.83 * (7s)   dt=    0.01        \n",
      "i=     184 t=    1.84 * (7s)   dt=    0.01        \n",
      "i=     185 t=    1.85 * (7s)   dt=    0.01        \n",
      "i=     186 t=    1.86 * (8s)   dt=    0.01        \n",
      "i=     187 t=    1.87 * (8s)   dt=    0.01        \n",
      "i=     188 t=    1.88 * (8s)   dt=    0.01        \n",
      "i=     189 t=    1.89 * (8s)   dt=    0.01        \n",
      "i=     190 t=     1.9 * (8s)   dt=    0.01        \n",
      "i=     191 t=    1.91 * (8s)   dt=    0.01        \n",
      "i=     192 t=    1.92 * (8s)   dt=    0.01        \n",
      "i=     193 t=    1.93 * (8s)   dt=    0.01        \n",
      "i=     194 t=    1.94 * (8s)   dt=    0.01        \n",
      "i=     195 t=    1.95 * (8s)   dt=    0.01        \n",
      "i=     196 t=    1.96 * (8s)   dt=    0.01        \n",
      "i=     197 t=    1.97 * (8s)   dt=    0.01        \n",
      "i=     198 t=    1.98 * (8s)   dt=    0.01        \n",
      "i=     199 t=    1.99 * (8s)   dt=    0.01        \n",
      "i=     200 t=       2 * (8s)   dt=    0.01        \n",
      "i=      -1 t=       2 * (8s)   dt=    0.01        \n"
     ]
    },
    {
     "name": "stderr",
     "output_type": "stream",
     "text": [
      "Elapsed time: 8.598s\n",
      "Steps: 200 (0 rejected, 0 Nonlinear solver failures)\n",
      "Nonlinear iterations: 200, Linear iterations: 200\n",
      "Start computing the Hamiltonian\n",
      "Hamiltonian has been computed in 0.5465061943978071 s\n",
      "Start computing the powers (substituted ports are not automated)\n",
      "Power cannot be computed for dynamic or substituted port q\n",
      "Power cannot be computed for dynamic or substituted port p\n",
      "Power cannot be computed for dynamic or substituted port Damping\n",
      "Start computing the power flowing through Boundary control\n",
      "Power in Boundary control has been computed in 0.026261473074555397 s\n",
      "Powers have been computed in 0.028242284432053566 s\n"
     ]
    },
    {
     "data": {
      "image/png": "[encoded data removed]",
      "text/plain": [
       "<Figure size 800x500 with 1 Axes>"
      ]
     },
     "metadata": {},
     "output_type": "display_data"
    }
   ],
   "source": [
    "## Initialize the problem\n",
    "# The controls expression\n",
    "expressions = [\"0.5*Y\"]\n",
    "\n",
    "# Add each expression to its control_port\n",
    "for control_port, expression in zip(control_ports, expressions):\n",
    "    # Set the control functions (automatic construction of bricks such that -M_u u + f(t) = 0)\n",
    "    wave.set_control(control_port.get_name(), expression)\n",
    "\n",
    "# Set the initial data\n",
    "wave.set_initial_value(\"q\", \"[0., 0.]\")\n",
    "wave.set_initial_value(\"p\", \"2.72**(-20*((x-0.5)*(x-0.5)+(y-0.5)*(y-0.5)))\")\n",
    "\n",
    "## Solve in time\n",
    "# Define the time scheme (\"cn\" is Crank-Nicolson)\n",
    "wave.set_time_scheme(ts_type=\"cn\",\n",
    "                     t_f=2.0, \n",
    "                     dt_save=0.01,\n",
    "                     )\n",
    "\n",
    "# Solve\n",
    "wave.solve()\n",
    "\n",
    "## Post-processing\n",
    "## Set Hamiltonian's name\n",
    "wave.hamiltonian.set_name(\"Mechanical energy\")\n",
    "# Define each Hamiltonian Term\n",
    "terms = [\n",
    "    S.Term(\"Potential energy\", \"0.5*q.Tinv.q\", [1, 2]),\n",
    "    S.Term(\"Kinetic energy\", \"0.5*p*p*rho\", [1, 2]),\n",
    "]\n",
    "# Add them to the Hamiltonian\n",
    "for term in terms:\n",
    "    wave.hamiltonian.add_term(term)\n",
    "\n",
    "# Plot the Hamiltonian and save the output\n",
    "wave.plot_Hamiltonian(save_figure=True)"
   ]
  }
 ],
 "metadata": {
  "kernelspec": {
   "display_name": "Scrimp",
   "language": "python",
   "name": "scrimp"
  },
  "language_info": {
   "codemirror_mode": {
    "name": "ipython",
    "version": 3
   },
   "file_extension": ".py",
   "mimetype": "text/x-python",
   "name": "python",
   "nbconvert_exporter": "python",
   "pygments_lexer": "ipython3",
   "version": "3.11.7"
  }
 },
 "nbformat": 4,
 "nbformat_minor": 5
}

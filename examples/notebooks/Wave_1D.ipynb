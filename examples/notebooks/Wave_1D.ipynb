{
 "cells": [
  {
   "cell_type": "markdown",
   "id": "05db1001-5ce4-4f90-9602-f46e129bb8aa",
   "metadata": {
    "tags": [],
    "user_expressions": []
   },
   "source": [
    "The 1-dimensional linear wave equation\n",
    "======================================\n",
    "\n",
    "The objective of this first example is to provide an overview of the coding syntax.\n",
    "\n",
    "To understand the coding philosophy of **SCRIMP**, let us consider the 1D wave equation with Neumann boundary control as a first example\n",
    "$$\n",
    "    \\left\\lbrace\n",
    "    \\begin{array}{rcl}\n",
    "    \\rho(x) \\partial_{tt}^2 w(t,x) - \\partial_x \\left( T(x) \\partial_x w(t,x) \\right) &=& 0, \\qquad t \\ge 0, x \\in (0,1), \\\\\n",
    "    \\partial_t w(0,x) &=& v_0(x), \\qquad x \\in (0,1), \\\\\n",
    "    \\partial_x w(0,x) &=& s_0(x), \\qquad x \\in (0,1), \\\\\n",
    "    - T(0) \\partial_x \\left( w(t,0) \\right) &=& u_L(t), \\qquad t \\ge 0, \\\\\n",
    "    T(1) \\partial_x \\left( w(t,1) \\right) &=& u_R(t), \\qquad t \\ge 0,\n",
    "    \\end{array}\n",
    "    \\right.\n",
    "$$\n",
    "where $w$ denotes the deflection from the equilibrium position of a string, $\\rho$ is its mass density and $T$ the Young's modulus. **Note** the minus sign on the control at the left end side, standing for the *outward normal* to the domain $(0,1)$.\n",
    "\n",
    "The physics giving this equation has to be restated in the port-Hamiltonian formalism first.\n",
    "\n",
    "Port-Hamiltonian framework\n",
    "--------------------------\n",
    "\n",
    "Let $\\alpha_q := \\partial_x w$ denotes the *strain* and $\\alpha_p := \\rho \\partial_t w$ the *linear momentum*. One can express the total mechanical energy lying in the system $\\mathcal{H}$, the **Hamiltonian**, as\n",
    "$$\n",
    "    \\mathcal{H}(t) = \\mathcal{H}(\\alpha_q(t,x), \\alpha_p(t,x)) := \\underbrace{\\frac{1}{2} \\int_0^1 \\alpha_q(t,x) T(x) \\alpha_q(t,x) {\\rm d}x}_{\\text{Potential energy}} + \\underbrace{\\frac{1}{2} \\int_0^1 \\frac{\\alpha_p(t,x)^2}{\\rho(x)} {\\rm d}x}_{\\text{Kinetic energy}}.\n",
    "$$\n",
    "\n",
    "The variables $\\alpha_q$ and $\\alpha_p$ are known as the **state variables**, or in the present case since $\\mathcal{H}$ represents an energy, the **energy variables**.\n",
    "\n",
    "Computing the [variational derivative](https://en.wikipedia.org/wiki/Functional_derivative>) of $\\mathcal{H}$ with respect to these variables leads to the **co-state variables**, or in our case the **co-energy variables**, *i.e.*\n",
    "$$\n",
    "    e_q := \\delta_{\\alpha_q} \\mathcal{H} = T \\alpha_q, \\qquad e_p := \\delta_{\\alpha_p} \\mathcal{H} = \\frac{\\alpha_p}{\\rho},\n",
    "$$\n",
    "that is the *stress* and the *velocity* respectively.\n",
    "\n",
    "Newton's second law and Schwarz's lemma give the following dynamics\n",
    "$$\n",
    "    \\begin{pmatrix} \\partial_t \\alpha_q \\\\ \\partial_t \\alpha_p \\end{pmatrix}\n",
    "    =\n",
    "    \\begin{bmatrix} 0 & \\partial_x \\\\ \\partial_x & 0 \\end{bmatrix}\n",
    "    \\begin{pmatrix} e_q \\\\ e_p \\end{pmatrix}.\n",
    "$$\n",
    "\n",
    "Of course, trivial substitutions in this system would lead again to the initial string equation in second-order form. However, by keeping the system as is, an important structure appears. Indeed, the matrix of operators above is *formally* skew-symmetric. In other words, for all test functions :math:`f_q` and :math:`f_p` (compactly supported :math:`C^\\infty` functions), one has thanks to integration by parts\n",
    "$$\n",
    "    \\begin{pmatrix} f_q & f_p \\end{pmatrix}\n",
    "    \\begin{bmatrix} 0 & \\partial_x \\\\ \\partial_x & 0 \\end{bmatrix}\n",
    "    \\begin{pmatrix} f_q \\\\ f_p \\end{pmatrix} = 0.\n",
    "$$\n",
    "\n",
    "Together with the boundary Neumann condition, and defining *collocated* Dirichlet observations, this defines a (Stokes-) **Dirac structure**, where solutions along time, *i.e.* *trajectories*, will belong.\n",
    "\n",
    "The port-Hamiltonian system representing a (linear) vibrating string with Neumann boundary control and Dirichlet boundary observation then writes\n",
    "$$\n",
    "    \\begin{pmatrix} \\partial_t \\alpha_q \\\\ \\partial_t \\alpha_p \\end{pmatrix}\n",
    "    =\n",
    "    \\begin{bmatrix} 0 & \\partial_x \\\\ \\partial_x & 0 \\end{bmatrix}\n",
    "    \\begin{pmatrix} e_q \\\\ e_p \\end{pmatrix},\n",
    "$$\n",
    "$$\n",
    "    \\left\\lbrace\n",
    "    \\begin{array}{rcl}\n",
    "    - e_q(t,0) &=& u_L(t), \\\\\n",
    "    e_q(t,1) &=& u_R(t), \\\\\n",
    "    y_L(t) &=& e_p(t,0), \\\\\n",
    "    y_R(t) &=& e_p(t,1),\n",
    "    \\end{array}\n",
    "    \\right.\n",
    "$$\n",
    "$$\n",
    "    \\left\\lbrace\n",
    "    \\begin{array}{rcl}\n",
    "    e_q &=& T \\alpha_q, \\\\\n",
    "    e_p &=& \\frac{\\alpha_p}{\\rho}.\n",
    "    \\end{array}\n",
    "    \\right.\n",
    "$$\n",
    "The two first blocks, giving in particular the dynamics, define the **Dirac structure** of the system. The third block is known as the **constitutive relations**, and is needed to ensure uniqueness of solutions.\n",
    "\n",
    "The importance of the **Dirac structure** relies, in particular, in the fact that it encloses the **power balance** satisfied by the **Hamiltonian**. Indeed, along the trajectories, one has\n",
    "$$\n",
    "    \\frac{\\rm d}{{\\rm d}t} \\mathcal{H}(t) = \\frac{\\rm d}{{\\rm d}t} \\mathcal{H}(\\alpha_q(t), \\alpha_p(t)) = \\underbrace{y_R(t) u_R(t)}_{\\text{power flowing through the right}} + \\underbrace{y_L(t) u_L(t)}_{\\text{power flowing through the left}}.\n",
    "$$\n",
    "\n",
    "In other words, the **Dirac structure** encodes the way the system communicates with its environment. In the present example, it says that the variation of the total mechanical energy is given by the power supplied to the system at the boundaries.\n",
    "\n",
    "Each couple $(\\partial_t \\alpha_q, e_q)$, $(\\partial_t \\alpha_p, e_p)$, $(u_L, y_L)$ and $(u_R, y_R)$ is a **port** of the port-Hamiltonian system, and is associated to a physically meaningful term in the **power balance**.\n",
    "\n",
    "Structure-preserving discretization\n",
    "-----------------------------------\n",
    "\n",
    "The objective of a structure-preserving discretization method is to obtain a **finite-dimensional Dirac structure** that encloses a *discrete version* of the power balance. There is several ways to achieve this goal, but **SCRIMP** focuses on a particular application of the Mixed Finite Element Mehod, called the **Partitioned Finite Element Method**.\n",
    "\n",
    "**Remark:** The 1D case does simplify the difficulties coming from the boundary terms. Indeed, here the functional spaces for the controls $u_L$, $u_R$ and the observations $y_L$, $y_R$ are nothing but $\\mathbb{R}$.\n",
    "\n",
    "Let $\\varphi_q$ and $\\varphi_p$ be smooth test functions, and $\\delta_{mx}$ denote the Kronecker symbol. One can write the weak formulation of the **Dirac Structure** as follows\n",
    "$$\n",
    "    \\left\\lbrace\n",
    "    \\begin{array}{rcl}\n",
    "    \\int_0^1 \\partial_t \\alpha_q(t,x) \\varphi_q(x) {\\rm d}x &=& \\int_0^1 \\partial_x e_p(t,x) \\varphi_q(x) {\\rm d}x, \\\\\n",
    "    \\int_0^1 \\partial_t \\alpha_p(t,x) \\varphi_p(x) {\\rm d}x &=& \\int_0^1 \\partial_x e_q(t,x) \\varphi_p(x) {\\rm d}x, \\\\\n",
    "    y_L(t) &=& \\delta_{0x} e_p(t,x), \\\\\n",
    "    y_R(t) &=& \\delta_{1x} e_p(t,x).\n",
    "    \\end{array}\n",
    "    \\right.\n",
    "$$\n",
    "\n",
    "Integrating by parts the second line make the controls appear\n",
    "$$\n",
    "    \\left\\lbrace\n",
    "    \\begin{array}{rcl}\n",
    "    \\int_0^1 \\partial_t \\alpha_q(t,x) \\varphi_q(x) {\\rm d}x &=& \\int_0^1 \\partial_x e_p(t,x) \\varphi_q(x) {\\rm d}x, \\\\\n",
    "    \\int_0^1 \\partial_t \\alpha_p(t,x) \\varphi_p(x) {\\rm d}x &=& - \\int_0^1 e_q(t,x) \\partial_x \\varphi_p(x) {\\rm d}x + u_R(t) \\varphi_p(1) + u_L(t) \\varphi_p(0), \\\\\n",
    "    y_L(t) &=& \\delta_{0x} e_p(t,x), \\\\\n",
    "    y_R(t) &=& \\delta_{1x} e_p(t,x).\n",
    "    \\end{array}\n",
    "    \\right.\n",
    "$$\n",
    "\n",
    "Now, let $(\\varphi_q^i)_{1 \\le i \\le N_q}$ and $(\\varphi_p^k)_{1 \\le k \\le N_p}$ be two finite families of approximations for the $q$-type port and the $p$-type port respectively, typically finite element families, and write the discrete weak formulation with those families, one has for all $1 \\le i \\le N_q$ and all $1 \\le k \\le N_p$\n",
    "$$\n",
    "    \\left\\lbrace\n",
    "    \\begin{array}{rcl}\n",
    "    \\sum_{j=1}^{N_q} \\int_0^1 \\varphi_q^j(x) \\varphi_q^i(x) {\\rm d}x \\, \\frac{\\rm d}{{\\rm d}t} \\alpha_q^j(t) &=& \\sum_{\\ell=1}^{N_p} \\int_0^1 \\partial_x \\varphi_p^\\ell(x) \\varphi_q^i(x) {\\rm d}x \\, e_p^\\ell(t), \\\\\n",
    "    \\sum_{\\ell=1}^{N_p} \\int_0^1 \\varphi_p^\\ell(x) \\varphi_p^k(x) {\\rm d}x \\, \\frac{\\rm d}{{\\rm d}t} \\alpha_p^\\ell(t) &=& - \\sum_{j=1}^{N_q} \\int_0^1 \\varphi_q^j(x) \\partial_x \\varphi_p^k(x) {\\rm d}x \\, e_q^j(t) + u_R(t) \\varphi_p^k(1) + u_L(t) \\varphi_p^k(0), \\\\\n",
    "    y_L(t) &=& \\sum_{\\ell=1}^{N_p} \\varphi_p^\\ell(0) \\, e_p^\\ell(t), \\\\\n",
    "    y_R(t) &=& \\sum_{\\ell=1}^{N_p} \\varphi_p^\\ell(1) \\, e_p^\\ell(t),\n",
    "    \\end{array}\n",
    "    \\right.\n",
    "$$\n",
    "which rewrites in matrix form\n",
    "$$\n",
    "    \\underbrace{\\begin{bmatrix}\n",
    "    M_q & 0 & 0 & 0 \\\\\n",
    "    0 & M_p & 0 & 0 \\\\\n",
    "    0 & 0 & 1 & 0 \\\\\n",
    "    0 & 0 & 0 & 1\n",
    "    \\end{bmatrix}}_{= M}\n",
    "    \\begin{pmatrix}\n",
    "    \\frac{\\rm d}{{\\rm d}t} \\underline{\\alpha_q}(t) \\\\\n",
    "    \\frac{\\rm d}{{\\rm d}t} \\underline{\\alpha_p}(t) \\\\\n",
    "    - y_L(t) \\\\\n",
    "    - y_R(t)\n",
    "    \\end{pmatrix}\n",
    "    =\n",
    "    \\underbrace{\\begin{bmatrix}\n",
    "    0 & D & 0 & 0 \\\\\n",
    "    -D^\\top & 0 & B_L & B_R \\\\\n",
    "    0 & -B_L^\\top & 0 & 0 \\\\\n",
    "    0 & -B_R^\\top & 0 & 0\n",
    "    \\end{bmatrix}}_{= J}\n",
    "    \\begin{pmatrix}\n",
    "    \\underline{e_q}(t) \\\\\n",
    "    \\underline{e_p}(t) \\\\\n",
    "    u_L(t) \\\\\n",
    "    u_R(t)\n",
    "    \\end{pmatrix},\n",
    "$$\n",
    "where $\\underline{\\alpha_\\star}(t) := \\begin{pmatrix} \\alpha_\\star^1(t) & \\cdots & \\alpha_\\star^{N_\\star} \\end{pmatrix}^\\top$, $\\underline{e_\\star}(t) := \\begin{pmatrix} e_\\star^1(t) & \\cdots & e_\\star^{N_\\star} \\end{pmatrix}^\\top$, and\n",
    "$$\n",
    "    (M_q)_{ij} := \\int_0^1 \\varphi_q^j(x) \\varphi_q^i(x) {\\rm d}x,\n",
    "    \\qquad\n",
    "    (M_p)_{k\\ell} := \\int_0^1 \\varphi_p^\\ell(x) \\varphi_p^k(x) {\\rm d}x,\n",
    "$$\n",
    "$$\n",
    "    (D)_{i\\ell} := \\int_0^1 \\partial_x \\varphi_p^\\ell(x) \\varphi_q^i(x) {\\rm d}x,\n",
    "    \\qquad\n",
    "    (B_L)_{k} := \\varphi_p^k(0),\n",
    "    \\qquad\n",
    "    (B_R)_{k} := \\varphi_p^k(1).\n",
    "$$\n",
    "\n",
    "Abusing the language, the left-hand side will be called the **flow** of the **Dirac structure** in **SCRIMP**, while the right-hand side will be called the **effort**.\n",
    "\n",
    "Now one can approximate the **constitutive relations** in those families by projection of their weak formulations\n",
    "$$\n",
    "    \\left\\lbrace\n",
    "    \\begin{array}{rcl}\n",
    "    \\int_0^1 e_q(t,x) \\varphi_q(x) {\\rm d}x &=& \\int_0^1 T(x) \\alpha_q(t,x) \\varphi_q(x) {\\rm d}x, \\\\\n",
    "    \\int_0^1 e_p(t,x) \\varphi_p(x) {\\rm d}x &=&  \\int_0^1 \\frac{\\alpha_p(t,x)}{\\rho(x)} \\varphi_p(x) {\\rm d}x,\n",
    "    \\end{array}\n",
    "    \\right.\n",
    "$$\n",
    "from which one can deduce the matrix form of the discrete weak formulation of the constitutive relation\n",
    "$$\n",
    "    \\left\\lbrace\n",
    "    \\begin{array}{rcl}\n",
    "    M_q \\underline{e_q}(t) &=& M_T \\underline{\\alpha_q}(t), \\\\\n",
    "    M_p \\underline{e_p}(t) &=& M_\\rho \\underline{\\alpha_p}(t),\n",
    "    \\end{array}\n",
    "    \\right.\n",
    "$$\n",
    "where\n",
    "$$\n",
    "    (M_T)_{ij} := \\int_0^1 T(x) \\varphi_q^j(x) \\varphi_q^i(x) {\\rm d}x,\n",
    "    \\qquad\n",
    "    (M_\\rho)_{k\\ell} := \\int_0^1 \\frac{\\varphi_p^\\ell(x)}{\\rho(x)} \\varphi_p^k(x) {\\rm d}x.\n",
    "$$\n",
    "\n",
    "Finally, the **discrete Hamiltonian** $\\mathcal{H}^d$ is defined as the evaluation of $\\mathcal{H}$ on the approximation of the **state variables**\n",
    "$$\n",
    "    \\mathcal{H}^d(t) := \\mathcal{H}(\\alpha_q^d(t,x), \\alpha_p^d(t)) = \\frac{1}{2} \\underline{\\alpha_q}(t)^\\top M_T \\underline{\\alpha_q}(t) + \\frac{1}{2} \\underline{\\alpha_p}(t)^\\top M_\\rho \\underline{\\alpha_p}(t). \n",
    "$$\n",
    "\n",
    "The **discrete power balance** is then easily deduced from the above matrix formulations, thanks to the symmetry of $M$ and the skew-symmetry of $J$\n",
    "$$\n",
    "    \\frac{\\rm d}{{\\rm d}t} \\mathcal{H}^d(t) = y_R(t) u_R(t) + y_L(t) u_L(t).\n",
    "$$\n",
    "\n",
    "**Remark:** The discrete system that has to be solved numerically is a Differential Algebraic Equation (DAE). There exists some case (as in this example), where one can write the **co-state** formulation of the system by substituting the **constitutive relations** at the continuous level to get a more classical Ordinary Differential Equation (ODE)\n",
    "$$\n",
    "    \\begin{bmatrix}\n",
    "    \\widetilde{M}_q & 0 & 0 & 0 \\\\\n",
    "    0 & \\widetilde{M}_p & 0 & 0 \\\\\n",
    "    0 & 0 & 1 & 0 \\\\\n",
    "    0 & 0 & 0 & 1\n",
    "    \\end{bmatrix}\n",
    "    \\begin{pmatrix}\n",
    "    \\frac{\\rm d}{{\\rm d}t} \\underline{e_q}(t) \\\\\n",
    "    \\frac{\\rm d}{{\\rm d}t} \\underline{e_p}(t) \\\\\n",
    "    - y_L(t) \\\\\n",
    "    - y_R(t)\n",
    "    \\end{pmatrix}\n",
    "    =\n",
    "    \\begin{bmatrix}\n",
    "    0 & D & 0 & 0 \\\\\n",
    "    -D^\\top & 0 & B_L & B_R \\\\\n",
    "    0 & -B_L^\\top & 0 & 0 \\\\\n",
    "    0 & -B_R^\\top & 0 & 0\n",
    "    \\end{bmatrix}\n",
    "    \\begin{pmatrix}\n",
    "    \\underline{e_q}(t) \\\\\n",
    "    \\underline{e_p}(t) \\\\\n",
    "    u_L(t) \\\\\n",
    "    u_R(t)\n",
    "    \\end{pmatrix},\n",
    "$$\n",
    "where this time the mass matrices on the left-hand side are both *weighted* with respect to the physical parameters\n",
    "$$\n",
    "    (\\widetilde{M}_q)_{ij} := \\int_0^1 T^{-1}(x) \\varphi_q^j(x) \\varphi_q^i(x) {\\rm d}x,\n",
    "    \\qquad\n",
    "    (\\widetilde{M}_p)_{k\\ell} := \\int_0^1 \\rho(x) \\varphi_p^\\ell(x) \\varphi_p^k(x) {\\rm d}x.\n",
    "$$\n",
    "\n",
    "Coding within SCRIMP\n",
    "--------------------\n",
    "\n",
    "The following code is available in the file `wave_1D.py` of the *sandbox* folder of scrimp.\n",
    "\n",
    "To start, import **SCRIMP** and create a *distributed port-Hamiltonian system* (DPHS) called, *e.g.*, `wave`"
   ]
  },
  {
   "cell_type": "code",
   "execution_count": null,
   "id": "e27cca1a-4b8f-4019-a254-2b4fe57360de",
   "metadata": {
    "tags": []
   },
   "outputs": [],
   "source": [
    "import scrimp as S\n",
    "    \n",
    "wave = S.DPHS(\"real\")"
   ]
  },
  {
   "cell_type": "markdown",
   "id": "49abc32a-d284-4feb-a7a6-8c5f526f7190",
   "metadata": {
    "tags": [],
    "user_expressions": []
   },
   "source": [
    "Then, define the domain $\\Omega = (0,1)$, with a mesh-size parameter $h$, and add it to the *DPHS*"
   ]
  },
  {
   "cell_type": "code",
   "execution_count": null,
   "id": "c71e7da7-4d04-490c-9ee3-4688bd82ccd2",
   "metadata": {
    "tags": []
   },
   "outputs": [],
   "source": [
    "domain = S.Domain(\"Interval\", {\"L\": 1., \"h\": 0.01})\n",
    "wave.set_domain(domain)"
   ]
  },
  {
   "cell_type": "markdown",
   "id": "8714fef4-d40d-42a9-b3d8-96f868bb14c0",
   "metadata": {
    "tags": [],
    "user_expressions": []
   },
   "source": [
    "This creates a mesh of the interval $\\Omega = (0,1)$.\n",
    "\n",
    "**Important to keep in mind**: the domain is composed of `regions`, denoted by integers. The *built-in* geometry of an interval available in the code returns 1 for the domain $\\Omega$, 10 for the left-end and 11 for the right-end. Informations about available geometries and the indices of their regions can be found in the documentation or *via* the function `built_in_geometries()` available in `scrimp.utils.mesh`.\n",
    "\n",
    "On this domain, we define two **states** and add them to the *DPHS*"
   ]
  },
  {
   "cell_type": "code",
   "execution_count": null,
   "id": "ed3616dd-7bc5-4787-85ae-317a221adf5e",
   "metadata": {
    "tags": []
   },
   "outputs": [],
   "source": [
    "alpha_q = S.State(\"q\", \"Strain\", \"scalar-field\")\n",
    "alpha_p = S.State(\"p\", \"Linear momentum\", \"scalar-field\")\n",
    "wave.add_state(alpha_q)\n",
    "wave.add_state(alpha_p)"
   ]
  },
  {
   "cell_type": "markdown",
   "id": "625699fd-2f8b-458e-8839-587091393833",
   "metadata": {
    "tags": [],
    "user_expressions": []
   },
   "source": [
    "and the two associated **co-states**"
   ]
  },
  {
   "cell_type": "code",
   "execution_count": null,
   "id": "7961fbd5-cc3f-4e7f-a890-a1c19842b3f2",
   "metadata": {
    "tags": []
   },
   "outputs": [],
   "source": [
    "e_q = S.CoState(\"e_q\", \"Stress\", alpha_q)\n",
    "e_p = S.CoState(\"e_p\", \"Velocity\", alpha_p)\n",
    "wave.add_costate(e_q)\n",
    "wave.add_costate(e_p)"
   ]
  },
  {
   "cell_type": "markdown",
   "id": "fd8fca02-9f22-46c3-b90b-38420d9bd59d",
   "metadata": {
    "tags": [],
    "user_expressions": []
   },
   "source": [
    "These latter calls create automatically two *non-algebraic* **ports**, named after their respective **state**. Note that we simplify the notations and do not write `alpha_q` and `alpha_p` but `q` and `p` for the sake of readability.\n",
    "\n",
    "Finally, we create and add the two control-observation **ports** with"
   ]
  },
  {
   "cell_type": "code",
   "execution_count": null,
   "id": "6e8d6520-b31e-409e-a275-dc3ed5aeceae",
   "metadata": {
    "tags": []
   },
   "outputs": [],
   "source": [
    "left_end = S.Control_Port(\"Boundary control (left)\", \"U_L\", \"Normal force\", \"Y_L\", \"Velocity\", \"scalar-field\", region=10)\n",
    "right_end = S.Control_Port(\"Boundary control (right)\", \"U_R\", \"Normal force\", \"Y_R\", \"Velocity\", \"scalar-field\", region=11)\n",
    "wave.add_control_port(left_end)\n",
    "wave.add_control_port(right_end)"
   ]
  },
  {
   "cell_type": "markdown",
   "id": "ed4f21e5-ef89-4459-87fe-869a9971d467",
   "metadata": {
    "tags": [],
    "user_expressions": []
   },
   "source": [
    "Note the *crucial* keyword `region` to restrict each port to its end. By default, it would apply everywhere.\n",
    "\n",
    "**Syntaxic note:** although $y$ is the observation in the theory of port-Hamiltonian systems, it is also the second space variable for N-D problems. This name is thus reserved for this latter aim and forbidden in all definitions of a *DPHS*. Nevertheless, the code being case-sensitive, it is possible to name the observation `Y`. To avoid mistakes, we take the habit to always use this syntax, this is why we denoted our controls and observations with capital letters even if the problem does not occur in this 1D example.\n",
    "\n",
    "To be able to write the discrete weak formulation of the system, one need to set four finite element families, associated to each **port**. Only two arguments are mandatory: the *name* of the port and the *degree* of the approximations."
   ]
  },
  {
   "cell_type": "code",
   "execution_count": null,
   "id": "df1d7b63-d7c6-4a9c-9b31-d658b9edd268",
   "metadata": {
    "tags": []
   },
   "outputs": [],
   "source": [
    "V_q = S.FEM(\"q\", 2)\n",
    "V_p = S.FEM(\"p\", 1)\n",
    "V_L = S.FEM(\"Boundary control (left)\", 1)\n",
    "V_R = S.FEM(\"Boundary control (right)\", 1)"
   ]
  },
  {
   "cell_type": "markdown",
   "id": "e91f7d13-d1b4-46a2-9f2a-92e23970a846",
   "metadata": {
    "tags": [],
    "user_expressions": []
   },
   "source": [
    "This will construct a family of Lagrange finite elements (default choice) for each port, with the prescribed order. Remember that the boundary is only 2 disconnected points in this 1D case, so the only possibility for the finite element is 1 degree of freedom on each of them: Lagrange elements of order 1 is the easy way to do that.\n",
    "\n",
    "Of course, this *FEM* must be added to the *DPHS*"
   ]
  },
  {
   "cell_type": "code",
   "execution_count": null,
   "id": "b10a2d73-2c36-4793-a370-8fc6e4abf299",
   "metadata": {
    "tags": []
   },
   "outputs": [],
   "source": [
    "wave.add_FEM(V_q)\n",
    "wave.add_FEM(V_p)\n",
    "wave.add_FEM(V_L)\n",
    "wave.add_FEM(V_R)"
   ]
  },
  {
   "cell_type": "markdown",
   "id": "aedc8516-2844-453e-ae72-22da65e72bbd",
   "metadata": {
    "tags": [],
    "user_expressions": []
   },
   "source": [
    "Finally, the physical parameters of the experiment have to be defined. In **SCRIMP**, a *parameter* is associated to a *port*."
   ]
  },
  {
   "cell_type": "code",
   "execution_count": null,
   "id": "d310b8f0-6843-488f-acad-70f3c178c727",
   "metadata": {
    "tags": []
   },
   "outputs": [],
   "source": [
    "T = S.Parameter(\"T\", \"Young's modulus\", \"scalar-field\", \"1\", \"q\")\n",
    "rho = S.Parameter(\"rho\", \"Mass density\", \"scalar-field\", \"1 + x*(1-x)\", \"p\")\n",
    "wave.add_parameter(T)\n",
    "wave.add_parameter(rho)"
   ]
  },
  {
   "cell_type": "markdown",
   "id": "164ab024-cc2e-41e5-b80e-ea9569ce3287",
   "metadata": {
    "tags": [],
    "user_expressions": []
   },
   "source": [
    "The first argument will be **the string that can be used in forms**, the second argument is a human-readable description, the third one set the kind of the parameter, the fourth one is the mathematical expression defining the parameter, and finally the fifth argument is the *name* of the associated port.\n",
    "\n",
    "It is now possible to write the weak forms defining the system. *Only the non-zero blocks* are mandatory. Furthermore, the place of the block is automatically determined by GetFEM. The syntax follow a simple rule: the unknown trial function `q` is automatically associated to the test function `Test_q` (note the capital T on `Test`), and so on.\n",
    "\n",
    "Like we did for each call, the first step is to create the object, then to add it to the *DPHS*. As there is a lot of *bricks*, let us make a loop using a python *list*"
   ]
  },
  {
   "cell_type": "code",
   "execution_count": null,
   "id": "e47443bd-9750-45f4-8cfa-39fd2c45de8f",
   "metadata": {
    "tags": []
   },
   "outputs": [],
   "source": [
    "bricks = [\n",
    "    # M matrix, on the flow side\n",
    "    S.Brick(\"M_q\", \"q * Test_q\", [1], dt=True, position=\"flow\"),\n",
    "    S.Brick(\"M_p\", \"p * Test_p\", [1], dt=True, position=\"flow\"),\n",
    "    S.Brick(\"M_Y_L\", \"Y_L * Test_Y_L\", [10], position=\"flow\"),\n",
    "    S.Brick(\"M_Y_R\", \"Y_R * Test_Y_R\", [11], position=\"flow\"),\n",
    "    \n",
    "    # J matrix, on the effort side\n",
    "    S.Brick(\"D\", \"Grad(e_p) * Test_q\", [1], position=\"effort\"),\n",
    "\n",
    "    S.Brick(\"-D^T\", \"-e_q * Grad(Test_p)\", [1], position=\"effort\"),\n",
    "    S.Brick(\"B_L\", \"-U_L * Test_p\", [10], position=\"effort\"),\n",
    "    S.Brick(\"B_R\", \"U_R * Test_p\", [11], position=\"effort\"),\n",
    "\n",
    "    S.Brick(\"-B_L^T\", \"e_p * Test_Y_L\", [10], position=\"effort\"),\n",
    "    S.Brick(\"-B_R^T\", \"-e_p * Test_Y_R\", [11], position=\"effort\"),\n",
    "    \n",
    "    # Constitutive relations\n",
    "    S.Brick(\"-M_e_q\", \"-e_q * Test_e_q\", [1]),\n",
    "    S.Brick(\"CR_q\", \"q*T * Test_e_q\", [1]),\n",
    "\n",
    "    S.Brick(\"-M_e_p\", \"-e_p * Test_e_p\", [1]),\n",
    "    S.Brick(\"CR_p\", \"p/rho * Test_e_p\", [1]),\n",
    "    ]\n",
    "\n",
    "for brick in bricks:\n",
    "    wave.add_brick(brick)"
   ]
  },
  {
   "cell_type": "markdown",
   "id": "529133b0-2c49-42d2-bf23-b9b1bc38c9e4",
   "metadata": {
    "tags": [],
    "user_expressions": []
   },
   "source": [
    "The first argument of a *brick* is a human-readable name, the second one is the form, the third is a list (hence the [ and ]) of integers, listing all the regions where the form applies. The optional parameter `dt=True` is to inform **SCRIMP** that this block matrix will apply on the time-derivative of the unknown trial function, and finally the option parameter `position='flow'` informs **SCRIMP** that this block is a part of the *flow side* of the Dirac structure, `position='effort'` do the same for the *effort side*, and without this keyword, **SCRIMP** places the *brick* as part of the *constitutive relations*.\n",
    "\n",
    "**Syntaxic note:** the constitutive relations have to be written under an implicit formulation $F = 0$. Keep in mind that a minus sign will often appear because of that.\n",
    "\n",
    "The port-Hamiltonian system is now fully stated. It remains to set the controls and the initial values of the states before solving"
   ]
  },
  {
   "cell_type": "code",
   "execution_count": null,
   "id": "c6822c6b-be1a-45b8-8149-919997d9d10f",
   "metadata": {
    "tags": []
   },
   "outputs": [],
   "source": [
    "expression_left = \"-sin(2*pi*t)\"\n",
    "expression_right = \"0.\"\n",
    "wave.set_control(\"Boundary control (left)\", expression_left)\n",
    "wave.set_control(\"Boundary control (right)\", expression_right)\n",
    "\n",
    "q_init = \"2.*np.exp(-50.*(x-0.5)*(x-0.5))\"\n",
    "p_init = \"0.\"\n",
    "wave.set_initial_value(\"q\", q_init)\n",
    "wave.set_initial_value(\"p\", p_init)"
   ]
  },
  {
   "cell_type": "markdown",
   "id": "2cb0ad40-12e6-4ee1-aacd-2b4ecf3f6fe0",
   "metadata": {
    "tags": [],
    "user_expressions": []
   },
   "source": [
    "We can now solve the system (with default experiment parameters)"
   ]
  },
  {
   "cell_type": "code",
   "execution_count": null,
   "id": "0f09d3ed-e58c-4205-b1e3-ccf8fa802790",
   "metadata": {
    "tags": []
   },
   "outputs": [],
   "source": [
    "wave.solve()"
   ]
  },
  {
   "cell_type": "markdown",
   "id": "9e2514dc-565a-406e-94cb-7fd84e2e485d",
   "metadata": {
    "tags": [],
    "user_expressions": []
   },
   "source": [
    "To end, one can also add the Hamiltonian terms and plot the contribution of each port to the balance equation"
   ]
  },
  {
   "cell_type": "code",
   "execution_count": null,
   "id": "9244a3e7-9b58-484f-88fb-b9170802ddf9",
   "metadata": {
    "tags": []
   },
   "outputs": [],
   "source": [
    "wave.hamiltonian.set_name(\"Mechanical energy\")\n",
    "terms = [\n",
    "    S.Term(\"Kinetic energy\", \"0.5*p*p/rho\", [1]),\n",
    "    S.Term(\"Potential energy\", \"0.5*q*T*q\", [1]),\n",
    "]\n",
    "\n",
    "for term in terms:\n",
    "    wave.hamiltonian.add_term(term)\n",
    "\n",
    "wave.plot_Hamiltonian()"
   ]
  },
  {
   "cell_type": "markdown",
   "id": "da32c7e7-4c8c-4c8c-9984-6e10fdc7dcf7",
   "metadata": {
    "tags": [],
    "user_expressions": []
   },
   "source": [
    "One can appreciate the *structure-preserving* property by looking at the dashed line, showing the evolution of\n",
    "$$\n",
    "    \\mathcal{H}^d(t) - \\int_0^t u_R(s) y_R(s) {\\rm d}s - \\int_0^t u_L(s) y_L(s) {\\rm d}s.\n",
    "$$\n",
    "\n",
    "And now? Let's go to the **2D membrane** by running `Wave_2D.ipynb`!"
   ]
  }
 ],
 "metadata": {
  "kernelspec": {
   "display_name": "Scrimp",
   "language": "python",
   "name": "scrimp"
  },
  "language_info": {
   "codemirror_mode": {
    "name": "ipython",
    "version": 3
   },
   "file_extension": ".py",
   "mimetype": "text/x-python",
   "name": "python",
   "nbconvert_exporter": "python",
   "pygments_lexer": "ipython3",
   "version": "3.11.7"
  }
 },
 "nbformat": 4,
 "nbformat_minor": 5
}
